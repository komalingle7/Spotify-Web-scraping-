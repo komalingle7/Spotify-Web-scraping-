{
 "cells": [
  {
   "cell_type": "markdown",
   "metadata": {},
   "source": [
    "## Music to My Ears"
   ]
  },
  {
   "cell_type": "markdown",
   "metadata": {},
   "source": [
    "# INDEX\n",
    "\n",
    "### Section 1 : Introduction\n",
    "\n",
    "### Section 2 : Detailed Description of the data set(s) and Data Extraction Technics\n",
    "   \n",
    "    2.1 -> Spotify DataSets\n",
    "    2.2 -> Deezer Datasets\n",
    "\n",
    "### Section 3 : Online music streaming platform comparison (Spotify and Deezer)\n",
    "    \n",
    "    3.1 -> Web Scraping for SPOTIFY Music streaming platform\n",
    "            Section 3.1(A) -> Web Scraping of 2017, 2018 and 2019 datasets.\n",
    "            Section 3.1(B) -> Data Extraction of the audio features of all tracks.\n",
    "            Section 3.1(C) -> Data Cleaning of Spotify Datasets \n",
    "    3.2 -> Web Scraping for DEEZER Music streaming platform\n",
    "            Section 3.2(A) -> Web Scraping for Artists' Datasets.\n",
    "            Section 3.2(B) -> Data Extraction for all the tracks between 2017 & 2019.\n",
    "            Section 3.2(C) -> Data Cleaning of Deezer Datasets\n",
    "      \n",
    "### Section 4 : Analysis and Visualizations based on comparison between Spotify & Deezer\n",
    "\n",
    "    4.1 -> The Top 5 popular tracks on Spotify for year 2018 VS year 2019\n",
    "    4.2 -> Compare songs on Spotify based on various parameters like energy\n",
    "    4.3 -> Which parameters affect the popularity of the songs on the online music platforms?\n",
    "    4.4 -> Execution of Linear Regression\n",
    "    4.5 -> The top-5 artists from 2018 with the most increase rate in popularity in 2019 with respect to to 2018?\n",
    "    4.6 -> The distribution of the spotify audience by countries\n",
    "    4.7 -> The top 5 danceable tracks for the year 2018 VS 2019\n",
    "    4.8 -> Comparing the platforms. Which are the top 5 artists for Spotify VS Deezer platforms?\n",
    "    \n",
    "### Section 5 : Conclusions drawn and Visualisations explained"
   ]
  },
  {
   "cell_type": "markdown",
   "metadata": {},
   "source": [
    "\n",
    "# Section 1"
   ]
  },
  {
   "cell_type": "markdown",
   "metadata": {},
   "source": [
    "## Introduction"
   ]
  },
  {
   "cell_type": "markdown",
   "metadata": {},
   "source": [
    "As Plato aptly puts it, “Music gives a soul to the universe, wings to the mind, flight to the imagination and life to everything”. Inspired by this stunning literature and equipped with the power of Python, we will focus on the music streaming industry players for this project, including Spotify and Deezer. Within the last few years, the popularity of the music streaming platforms has gone through the roof and impacted the entire music industry massively. We will be primarily focusing on the trends in recent years for various songs, artists and playlists that have been streamed over these platforms. We will also focus on finding interesting relationships that can be leveraged by the artists creating the music and the way in which the current listeners consume music."
   ]
  },
  {
   "cell_type": "markdown",
   "metadata": {},
   "source": [
    "# Section 2"
   ]
  },
  {
   "cell_type": "markdown",
   "metadata": {},
   "source": [
    "## Detailed Description of the data set(s) and Data Extraction Techniques"
   ]
  },
  {
   "cell_type": "markdown",
   "metadata": {},
   "source": [
    "## Section 2.1"
   ]
  },
  {
   "cell_type": "markdown",
   "metadata": {},
   "source": [
    "### Data Extraction via SPOTIFY music application"
   ]
  },
  {
   "cell_type": "markdown",
   "metadata": {},
   "source": [
    "Primarily, we visited the https://developer.spotify.com/ website and created a developer's account in order to obtain access to the official spotify Web API. After executing the required python scripts, we initiated the project action plan. Initially, we recieved a unique client ID and client secret. Then we started exploring the nature of various syntaxes included in the Spotify Web API library. Extracting any specific artist's entire discography as well as extracting song data for every album released by the artist were the first few tasks which we performed on the system so as to get the gist of web scraping on this envrionment. This API also provides access to user related data, like playlists and music that the users save in their personal music library. The Spotify Web API is based on REST principles. Data resources are accessed via standard HTTPS requests in UTF-8 format to an API endpoint. Wherever possible, it uses appropriate HTTP verbs for each action. Following are some of the specific commands based on the spotify WEB API :\n",
    "\n",
    "'METHOD' -> 'ACTION'\n",
    "\n",
    "GET -> Retrieves resources,\n",
    "\n",
    "POST -> Creates resourcesSpotify URI,\n",
    "\n",
    "PUT -> Changes and/or replaces resources or collections,\n",
    "\n",
    "DELETE -> Deletes resources\n",
    "\n",
    "After understanding the complete functionality of specific commands, we started extracting data and converting them into dataframes for much better analysis and represention. We have defined a function named as \"audio_features\" which will return each and every technical detail related to the song quality for example it will return the aacousticness, song url, danceability, popularity, energy, instrumentalness, tempo etc. This function will also convert the extracted data into dataframes and will deliver a systematic table comprising of all the above mentioned measures.\n",
    "Following are also other features of Spotify WEB API which came handy during our data wrangling :\n",
    "\n",
    "1) Spotify URI - The resource identifier that you can enter, for example, in the Spotify Desktop client’s search box to locate an artist, album, or track.\n",
    "\n",
    "2) Spotify ID - The base-62 identifier that you can find at the end of the Spotify URI (see above) for an artist, track, album, playlist, etc.\n",
    "\n",
    "After the completion of the web scraping, data extraction and data cleaning we were able to obtain various types of clean music data based on the features like 'popularity', 'acousticness', 'speechiness' etc. The data we emphasised on was from the year 2017 to 2019. We were able to obtain raw data for a total of ten thousand (10,000) songs - for all three years - including all the other functionalities related to a particular song."
   ]
  },
  {
   "cell_type": "markdown",
   "metadata": {},
   "source": [
    "## Section 2.2"
   ]
  },
  {
   "cell_type": "markdown",
   "metadata": {},
   "source": [
    "### Data Extraction via DEEZER music application"
   ]
  },
  {
   "cell_type": "markdown",
   "metadata": {},
   "source": [
    "After accomplishing entensive data scraping for the Spotify music application, we were well versed with the data extraction process with the help of the WEB API package technique. Therefore, we were sure of obtaining another application for an unique data set so as to acquire full efficiency for comparitive study we aimed for, between two different music applications.\n",
    "Similar to Spotify, we registered for the developer rights of the Deezer music application via https://developers.deezer.com/ and after recieving the unique client ID, we were able to scrape the raw music data from the Deezer database. As we discussed above that we were able to extract data for the years 2017 to 2019."
   ]
  },
  {
   "cell_type": "markdown",
   "metadata": {},
   "source": [
    "# Section 3"
   ]
  },
  {
   "cell_type": "markdown",
   "metadata": {},
   "source": [
    "## Online music streaming platform comparison (Spotify and Deezer)"
   ]
  },
  {
   "cell_type": "markdown",
   "metadata": {},
   "source": [
    "## Section 3.1"
   ]
  },
  {
   "cell_type": "markdown",
   "metadata": {},
   "source": [
    "### Web Scraping for Spotify Music streaming platform"
   ]
  },
  {
   "cell_type": "code",
   "execution_count": 1,
   "metadata": {},
   "outputs": [],
   "source": [
    "import spotipy\n",
    "from spotipy.oauth2 import SpotifyClientCredentials #To access authorised Spotify data\n",
    "from IPython.display import display, HTML\n",
    "import requests\n",
    "import matplotlib.pyplot as plt\n",
    "from bs4 import BeautifulSoup\n",
    "import urllib.request\n",
    "from PIL import Image\n",
    "from IPython.display import Image as im\n",
    "import pandas as pd\n",
    "import datetime\n",
    "import numpy as np\n",
    "from sklearn.linear_model import LinearRegression\n",
    "import statsmodels.api as sm"
   ]
  },
  {
   "cell_type": "code",
   "execution_count": 2,
   "metadata": {},
   "outputs": [
    {
     "data": {
      "text/html": [
       "<img src=\"https://upload.wikimedia.org/wikipedia/commons/5/56/Spotify_logo_horizontal_black.jpg\"/>"
      ],
      "text/plain": [
       "<IPython.core.display.Image object>"
      ]
     },
     "execution_count": 2,
     "metadata": {},
     "output_type": "execute_result"
    }
   ],
   "source": [
    "im(url = \"https://upload.wikimedia.org/wikipedia/commons/5/56/Spotify_logo_horizontal_black.jpg\")"
   ]
  },
  {
   "cell_type": "markdown",
   "metadata": {},
   "source": [
    "## Section 3.1(A)"
   ]
  },
  {
   "cell_type": "markdown",
   "metadata": {},
   "source": [
    "### Data Scraping for the years 2017, 2018 and 2019 via SPOTIPY API"
   ]
  },
  {
   "cell_type": "code",
   "execution_count": 3,
   "metadata": {},
   "outputs": [
    {
     "name": "stdout",
     "output_type": "stream",
     "text": [
      "Number of elements in the track_id list: 1000\n"
     ]
    }
   ],
   "source": [
    "#Getting the client id and client_secret for the spotipy object \n",
    "client_id = \"8fa1f2d81a294a48a6f43c7eadf7a547\"\n",
    "client_secret = \"9bc603b3e8554d22a66ad85723359623\"\n",
    "client_credentials_manager = SpotifyClientCredentials(client_id=client_id, client_secret=client_secret)\n",
    "sp = spotipy.Spotify(client_credentials_manager=client_credentials_manager) #spotify object to access API\n",
    "\n",
    "# create empty lists where the results are going to be stored\n",
    "artist_name = []\n",
    "track_name = []\n",
    "popularity = []\n",
    "track_id = []\n",
    "\n",
    "artist_name1 = []\n",
    "track_name1 = []\n",
    "popularity1 = []\n",
    "track_id1 = []\n",
    "\n",
    "artist_name2 = []\n",
    "track_name2 = []\n",
    "popularity2 = []\n",
    "track_id2 = []\n",
    "#2018\n",
    "for i in range(0,1000,50):\n",
    "    track_results = sp.search(q='year:2018', type='track', limit=50,offset=i)\n",
    "    for i, t in enumerate(track_results['tracks']['items']):\n",
    "        artist_name.append(t['artists'][0]['name'])\n",
    "        track_name.append(t['name'])\n",
    "        track_id.append(t['id'])\n",
    "        popularity.append(t['popularity'])\n",
    "#2019\n",
    "for i in range(0,1000,50):\n",
    "    track_results1 = sp.search(q='year:2019', type='track', limit=50,offset=i)\n",
    "    for i, t in enumerate(track_results1['tracks']['items']):\n",
    "        artist_name1.append(t['artists'][0]['name'])\n",
    "        track_name1.append(t['name'])\n",
    "        track_id1.append(t['id'])\n",
    "        popularity1.append(t['popularity'])\n",
    "#2017\n",
    "for i in range(0,1000,50):\n",
    "    track_results2 = sp.search(q='year:2017', type='track', limit=50,offset=i)\n",
    "    for i, t in enumerate(track_results2['tracks']['items']):\n",
    "        artist_name2.append(t['artists'][0]['name'])\n",
    "        track_name2.append(t['name'])\n",
    "        track_id2.append(t['id'])\n",
    "        popularity2.append(t['popularity'])\n",
    "    #artist_top_tracks(artist_id, country='US')\n",
    "print('Number of elements in the track_id list:', len(track_id))"
   ]
  },
  {
   "cell_type": "code",
   "execution_count": 4,
   "metadata": {},
   "outputs": [
    {
     "name": "stdout",
     "output_type": "stream",
     "text": [
      "Number of elements in the track_id list: 1000\n"
     ]
    }
   ],
   "source": [
    "print('Number of elements in the track_id list:', len(track_id1))"
   ]
  },
  {
   "cell_type": "code",
   "execution_count": 5,
   "metadata": {},
   "outputs": [
    {
     "name": "stdout",
     "output_type": "stream",
     "text": [
      "Number of elements in the track_id list: 1000\n"
     ]
    }
   ],
   "source": [
    "print('Number of elements in the track_id list:', len(track_id2))"
   ]
  },
  {
   "cell_type": "code",
   "execution_count": 6,
   "metadata": {},
   "outputs": [],
   "source": [
    "#making the dataframes for the song tracks scraped for years 2017,2018 and 2019\n",
    "\n",
    "df_tracks = pd.DataFrame({'artist_name':artist_name,'track_name':track_name,'track_id':track_id,'popularity':popularity})\n",
    "df_tracks1 = pd.DataFrame({'artist_name':artist_name1,'track_name':track_name1,'track_id':track_id1,'popularity':popularity1})\n",
    "df_tracks2 = pd.DataFrame({'artist_name':artist_name2,'track_name':track_name2,'track_id':track_id2,'popularity':popularity2})"
   ]
  },
  {
   "cell_type": "code",
   "execution_count": 7,
   "metadata": {},
   "outputs": [
    {
     "data": {
      "text/html": [
       "<div>\n",
       "<style scoped>\n",
       "    .dataframe tbody tr th:only-of-type {\n",
       "        vertical-align: middle;\n",
       "    }\n",
       "\n",
       "    .dataframe tbody tr th {\n",
       "        vertical-align: top;\n",
       "    }\n",
       "\n",
       "    .dataframe thead th {\n",
       "        text-align: right;\n",
       "    }\n",
       "</style>\n",
       "<table border=\"1\" class=\"dataframe\">\n",
       "  <thead>\n",
       "    <tr style=\"text-align: right;\">\n",
       "      <th></th>\n",
       "      <th>artist_name</th>\n",
       "      <th>track_name</th>\n",
       "      <th>track_id</th>\n",
       "      <th>popularity</th>\n",
       "    </tr>\n",
       "  </thead>\n",
       "  <tbody>\n",
       "    <tr>\n",
       "      <td>0</td>\n",
       "      <td>Trevor Daniel</td>\n",
       "      <td>Falling</td>\n",
       "      <td>4TnjEaWOeW0eKTKIEvJyCa</td>\n",
       "      <td>96</td>\n",
       "    </tr>\n",
       "    <tr>\n",
       "      <td>1</td>\n",
       "      <td>Juice WRLD</td>\n",
       "      <td>Lucid Dreams</td>\n",
       "      <td>285pBltuF7vW8TeWk8hdRR</td>\n",
       "      <td>89</td>\n",
       "    </tr>\n",
       "    <tr>\n",
       "      <td>2</td>\n",
       "      <td>Juice WRLD</td>\n",
       "      <td>All Girls Are The Same</td>\n",
       "      <td>4VXIryQMWpIdGgYR4TrjT1</td>\n",
       "      <td>84</td>\n",
       "    </tr>\n",
       "    <tr>\n",
       "      <td>3</td>\n",
       "      <td>Billie Eilish</td>\n",
       "      <td>lovely (with Khalid)</td>\n",
       "      <td>0u2P5u6lvoDfwTYjAADbn4</td>\n",
       "      <td>90</td>\n",
       "    </tr>\n",
       "    <tr>\n",
       "      <td>4</td>\n",
       "      <td>Post Malone</td>\n",
       "      <td>Sunflower - Spider-Man: Into the Spider-Verse</td>\n",
       "      <td>3KkXRkHbMCARz0aVfEt68P</td>\n",
       "      <td>86</td>\n",
       "    </tr>\n",
       "  </tbody>\n",
       "</table>\n",
       "</div>"
      ],
      "text/plain": [
       "     artist_name                                     track_name  \\\n",
       "0  Trevor Daniel                                        Falling   \n",
       "1     Juice WRLD                                   Lucid Dreams   \n",
       "2     Juice WRLD                         All Girls Are The Same   \n",
       "3  Billie Eilish                           lovely (with Khalid)   \n",
       "4    Post Malone  Sunflower - Spider-Man: Into the Spider-Verse   \n",
       "\n",
       "                 track_id  popularity  \n",
       "0  4TnjEaWOeW0eKTKIEvJyCa          96  \n",
       "1  285pBltuF7vW8TeWk8hdRR          89  \n",
       "2  4VXIryQMWpIdGgYR4TrjT1          84  \n",
       "3  0u2P5u6lvoDfwTYjAADbn4          90  \n",
       "4  3KkXRkHbMCARz0aVfEt68P          86  "
      ]
     },
     "execution_count": 7,
     "metadata": {},
     "output_type": "execute_result"
    }
   ],
   "source": [
    "#2018\n",
    "df_tracks.head()"
   ]
  },
  {
   "cell_type": "code",
   "execution_count": 8,
   "metadata": {},
   "outputs": [
    {
     "data": {
      "text/html": [
       "<div>\n",
       "<style scoped>\n",
       "    .dataframe tbody tr th:only-of-type {\n",
       "        vertical-align: middle;\n",
       "    }\n",
       "\n",
       "    .dataframe tbody tr th {\n",
       "        vertical-align: top;\n",
       "    }\n",
       "\n",
       "    .dataframe thead th {\n",
       "        text-align: right;\n",
       "    }\n",
       "</style>\n",
       "<table border=\"1\" class=\"dataframe\">\n",
       "  <thead>\n",
       "    <tr style=\"text-align: right;\">\n",
       "      <th></th>\n",
       "      <th>artist_name</th>\n",
       "      <th>track_name</th>\n",
       "      <th>track_id</th>\n",
       "      <th>popularity</th>\n",
       "    </tr>\n",
       "  </thead>\n",
       "  <tbody>\n",
       "    <tr>\n",
       "      <td>0</td>\n",
       "      <td>Roddy Ricch</td>\n",
       "      <td>The Box</td>\n",
       "      <td>0nbXyq5TXYPCO7pr3N8S4I</td>\n",
       "      <td>99</td>\n",
       "    </tr>\n",
       "    <tr>\n",
       "      <td>1</td>\n",
       "      <td>The Weeknd</td>\n",
       "      <td>Blinding Lights</td>\n",
       "      <td>0sf12qNH5qcw8qpgymFOqD</td>\n",
       "      <td>100</td>\n",
       "    </tr>\n",
       "    <tr>\n",
       "      <td>2</td>\n",
       "      <td>Doja Cat</td>\n",
       "      <td>Say So</td>\n",
       "      <td>3Dv1eDb0MEgF93GpLXlucZ</td>\n",
       "      <td>96</td>\n",
       "    </tr>\n",
       "    <tr>\n",
       "      <td>3</td>\n",
       "      <td>Arizona Zervas</td>\n",
       "      <td>ROXANNE</td>\n",
       "      <td>696DnlkuDOXcMAnKlTgXXK</td>\n",
       "      <td>96</td>\n",
       "    </tr>\n",
       "    <tr>\n",
       "      <td>4</td>\n",
       "      <td>Dua Lipa</td>\n",
       "      <td>Don't Start Now</td>\n",
       "      <td>6WrI0LAC5M1Rw2MnX2ZvEg</td>\n",
       "      <td>98</td>\n",
       "    </tr>\n",
       "  </tbody>\n",
       "</table>\n",
       "</div>"
      ],
      "text/plain": [
       "      artist_name       track_name                track_id  popularity\n",
       "0     Roddy Ricch          The Box  0nbXyq5TXYPCO7pr3N8S4I          99\n",
       "1      The Weeknd  Blinding Lights  0sf12qNH5qcw8qpgymFOqD         100\n",
       "2        Doja Cat           Say So  3Dv1eDb0MEgF93GpLXlucZ          96\n",
       "3  Arizona Zervas          ROXANNE  696DnlkuDOXcMAnKlTgXXK          96\n",
       "4        Dua Lipa  Don't Start Now  6WrI0LAC5M1Rw2MnX2ZvEg          98"
      ]
     },
     "execution_count": 8,
     "metadata": {},
     "output_type": "execute_result"
    }
   ],
   "source": [
    "#2019\n",
    "df_tracks1.head()"
   ]
  },
  {
   "cell_type": "code",
   "execution_count": 9,
   "metadata": {},
   "outputs": [
    {
     "data": {
      "text/html": [
       "<div>\n",
       "<style scoped>\n",
       "    .dataframe tbody tr th:only-of-type {\n",
       "        vertical-align: middle;\n",
       "    }\n",
       "\n",
       "    .dataframe tbody tr th {\n",
       "        vertical-align: top;\n",
       "    }\n",
       "\n",
       "    .dataframe thead th {\n",
       "        text-align: right;\n",
       "    }\n",
       "</style>\n",
       "<table border=\"1\" class=\"dataframe\">\n",
       "  <thead>\n",
       "    <tr style=\"text-align: right;\">\n",
       "      <th></th>\n",
       "      <th>artist_name</th>\n",
       "      <th>track_name</th>\n",
       "      <th>track_id</th>\n",
       "      <th>popularity</th>\n",
       "    </tr>\n",
       "  </thead>\n",
       "  <tbody>\n",
       "    <tr>\n",
       "      <td>0</td>\n",
       "      <td>XXXTENTACION</td>\n",
       "      <td>Jocelyn Flores</td>\n",
       "      <td>7m9OqQk4RVRkw9JJdeAw96</td>\n",
       "      <td>87</td>\n",
       "    </tr>\n",
       "    <tr>\n",
       "      <td>21</td>\n",
       "      <td>Imagine Dragons</td>\n",
       "      <td>Believer</td>\n",
       "      <td>0pqnGHJpmpxLKifKRmU6WP</td>\n",
       "      <td>87</td>\n",
       "    </tr>\n",
       "    <tr>\n",
       "      <td>24</td>\n",
       "      <td>Ed Sheeran</td>\n",
       "      <td>Perfect</td>\n",
       "      <td>0tgVpDi06FyKpA1z0VMD4v</td>\n",
       "      <td>86</td>\n",
       "    </tr>\n",
       "    <tr>\n",
       "      <td>12</td>\n",
       "      <td>Billie Eilish</td>\n",
       "      <td>ocean eyes</td>\n",
       "      <td>7hDVYcQq6MxkdJGweuCtl9</td>\n",
       "      <td>85</td>\n",
       "    </tr>\n",
       "    <tr>\n",
       "      <td>57</td>\n",
       "      <td>Ed Sheeran</td>\n",
       "      <td>Shape of You</td>\n",
       "      <td>7qiZfU4dY1lWllzX7mPBI3</td>\n",
       "      <td>85</td>\n",
       "    </tr>\n",
       "  </tbody>\n",
       "</table>\n",
       "</div>"
      ],
      "text/plain": [
       "        artist_name      track_name                track_id  popularity\n",
       "0      XXXTENTACION  Jocelyn Flores  7m9OqQk4RVRkw9JJdeAw96          87\n",
       "21  Imagine Dragons        Believer  0pqnGHJpmpxLKifKRmU6WP          87\n",
       "24       Ed Sheeran         Perfect  0tgVpDi06FyKpA1z0VMD4v          86\n",
       "12    Billie Eilish      ocean eyes  7hDVYcQq6MxkdJGweuCtl9          85\n",
       "57       Ed Sheeran    Shape of You  7qiZfU4dY1lWllzX7mPBI3          85"
      ]
     },
     "execution_count": 9,
     "metadata": {},
     "output_type": "execute_result"
    }
   ],
   "source": [
    "#2017\n",
    "df_tracks2.sort_values([\"popularity\"],ascending=False).head()"
   ]
  },
  {
   "cell_type": "code",
   "execution_count": 10,
   "metadata": {},
   "outputs": [
    {
     "data": {
      "text/plain": [
       "19"
      ]
     },
     "execution_count": 10,
     "metadata": {},
     "output_type": "execute_result"
    }
   ],
   "source": [
    "grouped = df_tracks.groupby(['artist_name','track_name'], as_index=True).size()\n",
    "grouped[grouped > 1].count()"
   ]
  },
  {
   "cell_type": "code",
   "execution_count": 11,
   "metadata": {},
   "outputs": [
    {
     "data": {
      "text/plain": [
       "39"
      ]
     },
     "execution_count": 11,
     "metadata": {},
     "output_type": "execute_result"
    }
   ],
   "source": [
    "grouped1 = df_tracks1.groupby(['artist_name','track_name'], as_index=True).size()\n",
    "grouped1[grouped1 > 1].count()"
   ]
  },
  {
   "cell_type": "code",
   "execution_count": 12,
   "metadata": {},
   "outputs": [
    {
     "data": {
      "text/plain": [
       "23"
      ]
     },
     "execution_count": 12,
     "metadata": {},
     "output_type": "execute_result"
    }
   ],
   "source": [
    "grouped2 = df_tracks2.groupby(['artist_name','track_name'], as_index=True).size()\n",
    "grouped2[grouped2 > 1].count()"
   ]
  },
  {
   "cell_type": "code",
   "execution_count": 13,
   "metadata": {},
   "outputs": [
    {
     "data": {
      "text/plain": [
       "(981, 4)"
      ]
     },
     "execution_count": 13,
     "metadata": {},
     "output_type": "execute_result"
    }
   ],
   "source": [
    "df_tracks.drop_duplicates(subset=['artist_name','track_name'], inplace=True)\n",
    "df_tracks.shape"
   ]
  },
  {
   "cell_type": "code",
   "execution_count": 14,
   "metadata": {},
   "outputs": [
    {
     "data": {
      "text/plain": [
       "(960, 4)"
      ]
     },
     "execution_count": 14,
     "metadata": {},
     "output_type": "execute_result"
    }
   ],
   "source": [
    "df_tracks1.drop_duplicates(subset=['artist_name','track_name'], inplace=True)\n",
    "df_tracks1.shape"
   ]
  },
  {
   "cell_type": "code",
   "execution_count": 15,
   "metadata": {},
   "outputs": [
    {
     "data": {
      "text/plain": [
       "(977, 4)"
      ]
     },
     "execution_count": 15,
     "metadata": {},
     "output_type": "execute_result"
    }
   ],
   "source": [
    "df_tracks2.drop_duplicates(subset=['artist_name','track_name'], inplace=True)\n",
    "df_tracks2.shape"
   ]
  },
  {
   "cell_type": "markdown",
   "metadata": {},
   "source": [
    "## Section 3.1(B)"
   ]
  },
  {
   "cell_type": "markdown",
   "metadata": {},
   "source": [
    "### Scraping the audio features of the tracks for all 2017 to 2019 in SPOTIFY"
   ]
  },
  {
   "cell_type": "code",
   "execution_count": 16,
   "metadata": {},
   "outputs": [
    {
     "name": "stdout",
     "output_type": "stream",
     "text": [
      "Number of elements in the track_id list: 981\n"
     ]
    }
   ],
   "source": [
    "#scraping the audio features for 2018\n",
    "rows = []\n",
    "batchsize = 100\n",
    "\n",
    "for i in range(0,len(df_tracks['track_id']),batchsize):\n",
    "    batch = df_tracks['track_id'][i:i+batchsize]\n",
    "    feature_results = sp.audio_features(batch)\n",
    "    for i, t in enumerate(feature_results):\n",
    "        rows.append(t)\n",
    "\n",
    "print('Number of elements in the track_id list:', len(rows))"
   ]
  },
  {
   "cell_type": "code",
   "execution_count": 17,
   "metadata": {},
   "outputs": [
    {
     "name": "stdout",
     "output_type": "stream",
     "text": [
      "Number of elements in the track_id list: 960\n"
     ]
    }
   ],
   "source": [
    "#scraping the audio features for 2019\n",
    "rows1 = []\n",
    "batchsize = 100\n",
    "\n",
    "for j in range(0,len(df_tracks1['track_id']),batchsize):\n",
    "    batch1 = df_tracks1['track_id'][j:j+batchsize]\n",
    "    feature_results1 = sp.audio_features(batch1)\n",
    "    for j, k in enumerate(feature_results1):\n",
    "        rows1.append(k)\n",
    "\n",
    "print('Number of elements in the track_id list:', len(rows1))"
   ]
  },
  {
   "cell_type": "code",
   "execution_count": 18,
   "metadata": {},
   "outputs": [
    {
     "name": "stdout",
     "output_type": "stream",
     "text": [
      "Number of elements in the track_id list: 977\n"
     ]
    }
   ],
   "source": [
    "#scraping the audio features for 2017\n",
    "rows2 = []\n",
    "batchsize = 100\n",
    "\n",
    "for i in range(0,len(df_tracks2['track_id']),batchsize):\n",
    "    batch2 = df_tracks2['track_id'][i:i+batchsize]\n",
    "    feature_results2 = sp.audio_features(batch2)\n",
    "    for i, t in enumerate(feature_results2):\n",
    "        rows2.append(t)\n",
    "\n",
    "print('Number of elements in the track_id list:', len(rows2))"
   ]
  },
  {
   "cell_type": "code",
   "execution_count": 19,
   "metadata": {},
   "outputs": [
    {
     "name": "stdout",
     "output_type": "stream",
     "text": [
      "Number of tracks with no audio features: 0\n"
     ]
    }
   ],
   "source": [
    "# empty list, batchsize and the counter for None results\n",
    "rows1 = []\n",
    "batchsize = 100\n",
    "None_counter = 0\n",
    "\n",
    "for i in range(0,len(df_tracks1['track_id']),batchsize):\n",
    "    batch1 = df_tracks1['track_id'][i:i+batchsize]\n",
    "    feature_results1 = sp.audio_features(batch1)\n",
    "    for i, t in enumerate(feature_results1):\n",
    "        if t == None:\n",
    "            None_counter = None_counter + 1\n",
    "        else:\n",
    "            rows1.append(t)\n",
    "            \n",
    "print('Number of tracks with no audio features:', None_counter)"
   ]
  },
  {
   "cell_type": "code",
   "execution_count": 20,
   "metadata": {},
   "outputs": [
    {
     "name": "stdout",
     "output_type": "stream",
     "text": [
      "Shape of the dataset: (981, 18)\n"
     ]
    },
    {
     "data": {
      "text/html": [
       "<div>\n",
       "<style scoped>\n",
       "    .dataframe tbody tr th:only-of-type {\n",
       "        vertical-align: middle;\n",
       "    }\n",
       "\n",
       "    .dataframe tbody tr th {\n",
       "        vertical-align: top;\n",
       "    }\n",
       "\n",
       "    .dataframe thead th {\n",
       "        text-align: right;\n",
       "    }\n",
       "</style>\n",
       "<table border=\"1\" class=\"dataframe\">\n",
       "  <thead>\n",
       "    <tr style=\"text-align: right;\">\n",
       "      <th></th>\n",
       "      <th>danceability</th>\n",
       "      <th>energy</th>\n",
       "      <th>key</th>\n",
       "      <th>loudness</th>\n",
       "      <th>mode</th>\n",
       "      <th>speechiness</th>\n",
       "      <th>acousticness</th>\n",
       "      <th>instrumentalness</th>\n",
       "      <th>liveness</th>\n",
       "      <th>valence</th>\n",
       "      <th>tempo</th>\n",
       "      <th>type</th>\n",
       "      <th>id</th>\n",
       "      <th>uri</th>\n",
       "      <th>track_href</th>\n",
       "      <th>analysis_url</th>\n",
       "      <th>duration_ms</th>\n",
       "      <th>time_signature</th>\n",
       "    </tr>\n",
       "  </thead>\n",
       "  <tbody>\n",
       "    <tr>\n",
       "      <td>0</td>\n",
       "      <td>0.784</td>\n",
       "      <td>0.430</td>\n",
       "      <td>10</td>\n",
       "      <td>-8.756</td>\n",
       "      <td>0</td>\n",
       "      <td>0.0364</td>\n",
       "      <td>0.1230</td>\n",
       "      <td>0.000000</td>\n",
       "      <td>0.0887</td>\n",
       "      <td>0.236</td>\n",
       "      <td>127.087</td>\n",
       "      <td>audio_features</td>\n",
       "      <td>4TnjEaWOeW0eKTKIEvJyCa</td>\n",
       "      <td>spotify:track:4TnjEaWOeW0eKTKIEvJyCa</td>\n",
       "      <td>https://api.spotify.com/v1/tracks/4TnjEaWOeW0e...</td>\n",
       "      <td>https://api.spotify.com/v1/audio-analysis/4Tnj...</td>\n",
       "      <td>159382</td>\n",
       "      <td>4</td>\n",
       "    </tr>\n",
       "    <tr>\n",
       "      <td>1</td>\n",
       "      <td>0.511</td>\n",
       "      <td>0.566</td>\n",
       "      <td>6</td>\n",
       "      <td>-7.230</td>\n",
       "      <td>0</td>\n",
       "      <td>0.2000</td>\n",
       "      <td>0.3490</td>\n",
       "      <td>0.000000</td>\n",
       "      <td>0.3400</td>\n",
       "      <td>0.218</td>\n",
       "      <td>83.903</td>\n",
       "      <td>audio_features</td>\n",
       "      <td>285pBltuF7vW8TeWk8hdRR</td>\n",
       "      <td>spotify:track:285pBltuF7vW8TeWk8hdRR</td>\n",
       "      <td>https://api.spotify.com/v1/tracks/285pBltuF7vW...</td>\n",
       "      <td>https://api.spotify.com/v1/audio-analysis/285p...</td>\n",
       "      <td>239836</td>\n",
       "      <td>4</td>\n",
       "    </tr>\n",
       "    <tr>\n",
       "      <td>2</td>\n",
       "      <td>0.671</td>\n",
       "      <td>0.529</td>\n",
       "      <td>0</td>\n",
       "      <td>-7.226</td>\n",
       "      <td>1</td>\n",
       "      <td>0.3070</td>\n",
       "      <td>0.0769</td>\n",
       "      <td>0.000335</td>\n",
       "      <td>0.0856</td>\n",
       "      <td>0.203</td>\n",
       "      <td>161.989</td>\n",
       "      <td>audio_features</td>\n",
       "      <td>4VXIryQMWpIdGgYR4TrjT1</td>\n",
       "      <td>spotify:track:4VXIryQMWpIdGgYR4TrjT1</td>\n",
       "      <td>https://api.spotify.com/v1/tracks/4VXIryQMWpId...</td>\n",
       "      <td>https://api.spotify.com/v1/audio-analysis/4VXI...</td>\n",
       "      <td>165820</td>\n",
       "      <td>4</td>\n",
       "    </tr>\n",
       "    <tr>\n",
       "      <td>3</td>\n",
       "      <td>0.351</td>\n",
       "      <td>0.296</td>\n",
       "      <td>4</td>\n",
       "      <td>-10.109</td>\n",
       "      <td>0</td>\n",
       "      <td>0.0333</td>\n",
       "      <td>0.9340</td>\n",
       "      <td>0.000000</td>\n",
       "      <td>0.0950</td>\n",
       "      <td>0.120</td>\n",
       "      <td>115.284</td>\n",
       "      <td>audio_features</td>\n",
       "      <td>0u2P5u6lvoDfwTYjAADbn4</td>\n",
       "      <td>spotify:track:0u2P5u6lvoDfwTYjAADbn4</td>\n",
       "      <td>https://api.spotify.com/v1/tracks/0u2P5u6lvoDf...</td>\n",
       "      <td>https://api.spotify.com/v1/audio-analysis/0u2P...</td>\n",
       "      <td>200186</td>\n",
       "      <td>4</td>\n",
       "    </tr>\n",
       "    <tr>\n",
       "      <td>4</td>\n",
       "      <td>0.760</td>\n",
       "      <td>0.479</td>\n",
       "      <td>2</td>\n",
       "      <td>-5.574</td>\n",
       "      <td>1</td>\n",
       "      <td>0.0466</td>\n",
       "      <td>0.5560</td>\n",
       "      <td>0.000000</td>\n",
       "      <td>0.0703</td>\n",
       "      <td>0.913</td>\n",
       "      <td>89.911</td>\n",
       "      <td>audio_features</td>\n",
       "      <td>3KkXRkHbMCARz0aVfEt68P</td>\n",
       "      <td>spotify:track:3KkXRkHbMCARz0aVfEt68P</td>\n",
       "      <td>https://api.spotify.com/v1/tracks/3KkXRkHbMCAR...</td>\n",
       "      <td>https://api.spotify.com/v1/audio-analysis/3KkX...</td>\n",
       "      <td>158040</td>\n",
       "      <td>4</td>\n",
       "    </tr>\n",
       "  </tbody>\n",
       "</table>\n",
       "</div>"
      ],
      "text/plain": [
       "   danceability  energy  key  loudness  mode  speechiness  acousticness  \\\n",
       "0         0.784   0.430   10    -8.756     0       0.0364        0.1230   \n",
       "1         0.511   0.566    6    -7.230     0       0.2000        0.3490   \n",
       "2         0.671   0.529    0    -7.226     1       0.3070        0.0769   \n",
       "3         0.351   0.296    4   -10.109     0       0.0333        0.9340   \n",
       "4         0.760   0.479    2    -5.574     1       0.0466        0.5560   \n",
       "\n",
       "   instrumentalness  liveness  valence    tempo            type  \\\n",
       "0          0.000000    0.0887    0.236  127.087  audio_features   \n",
       "1          0.000000    0.3400    0.218   83.903  audio_features   \n",
       "2          0.000335    0.0856    0.203  161.989  audio_features   \n",
       "3          0.000000    0.0950    0.120  115.284  audio_features   \n",
       "4          0.000000    0.0703    0.913   89.911  audio_features   \n",
       "\n",
       "                       id                                   uri  \\\n",
       "0  4TnjEaWOeW0eKTKIEvJyCa  spotify:track:4TnjEaWOeW0eKTKIEvJyCa   \n",
       "1  285pBltuF7vW8TeWk8hdRR  spotify:track:285pBltuF7vW8TeWk8hdRR   \n",
       "2  4VXIryQMWpIdGgYR4TrjT1  spotify:track:4VXIryQMWpIdGgYR4TrjT1   \n",
       "3  0u2P5u6lvoDfwTYjAADbn4  spotify:track:0u2P5u6lvoDfwTYjAADbn4   \n",
       "4  3KkXRkHbMCARz0aVfEt68P  spotify:track:3KkXRkHbMCARz0aVfEt68P   \n",
       "\n",
       "                                          track_href  \\\n",
       "0  https://api.spotify.com/v1/tracks/4TnjEaWOeW0e...   \n",
       "1  https://api.spotify.com/v1/tracks/285pBltuF7vW...   \n",
       "2  https://api.spotify.com/v1/tracks/4VXIryQMWpId...   \n",
       "3  https://api.spotify.com/v1/tracks/0u2P5u6lvoDf...   \n",
       "4  https://api.spotify.com/v1/tracks/3KkXRkHbMCAR...   \n",
       "\n",
       "                                        analysis_url  duration_ms  \\\n",
       "0  https://api.spotify.com/v1/audio-analysis/4Tnj...       159382   \n",
       "1  https://api.spotify.com/v1/audio-analysis/285p...       239836   \n",
       "2  https://api.spotify.com/v1/audio-analysis/4VXI...       165820   \n",
       "3  https://api.spotify.com/v1/audio-analysis/0u2P...       200186   \n",
       "4  https://api.spotify.com/v1/audio-analysis/3KkX...       158040   \n",
       "\n",
       "   time_signature  \n",
       "0               4  \n",
       "1               4  \n",
       "2               4  \n",
       "3               4  \n",
       "4               4  "
      ]
     },
     "execution_count": 20,
     "metadata": {},
     "output_type": "execute_result"
    }
   ],
   "source": [
    "df_audio_features = pd.DataFrame.from_dict(rows,orient='columns')\n",
    "print(\"Shape of the dataset:\", df_audio_features.shape)\n",
    "df_audio_features.head()"
   ]
  },
  {
   "cell_type": "code",
   "execution_count": 21,
   "metadata": {},
   "outputs": [],
   "source": [
    "df_audio_features1 = pd.DataFrame.from_dict(rows1, orient='columns')"
   ]
  },
  {
   "cell_type": "code",
   "execution_count": 22,
   "metadata": {},
   "outputs": [
    {
     "name": "stdout",
     "output_type": "stream",
     "text": [
      "Shape of the dataset: (960, 18)\n"
     ]
    },
    {
     "data": {
      "text/html": [
       "<div>\n",
       "<style scoped>\n",
       "    .dataframe tbody tr th:only-of-type {\n",
       "        vertical-align: middle;\n",
       "    }\n",
       "\n",
       "    .dataframe tbody tr th {\n",
       "        vertical-align: top;\n",
       "    }\n",
       "\n",
       "    .dataframe thead th {\n",
       "        text-align: right;\n",
       "    }\n",
       "</style>\n",
       "<table border=\"1\" class=\"dataframe\">\n",
       "  <thead>\n",
       "    <tr style=\"text-align: right;\">\n",
       "      <th></th>\n",
       "      <th>danceability</th>\n",
       "      <th>energy</th>\n",
       "      <th>key</th>\n",
       "      <th>loudness</th>\n",
       "      <th>mode</th>\n",
       "      <th>speechiness</th>\n",
       "      <th>acousticness</th>\n",
       "      <th>instrumentalness</th>\n",
       "      <th>liveness</th>\n",
       "      <th>valence</th>\n",
       "      <th>tempo</th>\n",
       "      <th>type</th>\n",
       "      <th>id</th>\n",
       "      <th>uri</th>\n",
       "      <th>track_href</th>\n",
       "      <th>analysis_url</th>\n",
       "      <th>duration_ms</th>\n",
       "      <th>time_signature</th>\n",
       "    </tr>\n",
       "  </thead>\n",
       "  <tbody>\n",
       "    <tr>\n",
       "      <td>0</td>\n",
       "      <td>0.896</td>\n",
       "      <td>0.586</td>\n",
       "      <td>10</td>\n",
       "      <td>-6.687</td>\n",
       "      <td>0</td>\n",
       "      <td>0.0559</td>\n",
       "      <td>0.10400</td>\n",
       "      <td>0.000000</td>\n",
       "      <td>0.7900</td>\n",
       "      <td>0.642</td>\n",
       "      <td>116.971</td>\n",
       "      <td>audio_features</td>\n",
       "      <td>0nbXyq5TXYPCO7pr3N8S4I</td>\n",
       "      <td>spotify:track:0nbXyq5TXYPCO7pr3N8S4I</td>\n",
       "      <td>https://api.spotify.com/v1/tracks/0nbXyq5TXYPC...</td>\n",
       "      <td>https://api.spotify.com/v1/audio-analysis/0nbX...</td>\n",
       "      <td>196653</td>\n",
       "      <td>4</td>\n",
       "    </tr>\n",
       "    <tr>\n",
       "      <td>1</td>\n",
       "      <td>0.513</td>\n",
       "      <td>0.796</td>\n",
       "      <td>1</td>\n",
       "      <td>-4.075</td>\n",
       "      <td>1</td>\n",
       "      <td>0.0629</td>\n",
       "      <td>0.00147</td>\n",
       "      <td>0.000209</td>\n",
       "      <td>0.0938</td>\n",
       "      <td>0.345</td>\n",
       "      <td>171.017</td>\n",
       "      <td>audio_features</td>\n",
       "      <td>0sf12qNH5qcw8qpgymFOqD</td>\n",
       "      <td>spotify:track:0sf12qNH5qcw8qpgymFOqD</td>\n",
       "      <td>https://api.spotify.com/v1/tracks/0sf12qNH5qcw...</td>\n",
       "      <td>https://api.spotify.com/v1/audio-analysis/0sf1...</td>\n",
       "      <td>201573</td>\n",
       "      <td>4</td>\n",
       "    </tr>\n",
       "    <tr>\n",
       "      <td>2</td>\n",
       "      <td>0.787</td>\n",
       "      <td>0.673</td>\n",
       "      <td>11</td>\n",
       "      <td>-4.577</td>\n",
       "      <td>0</td>\n",
       "      <td>0.1580</td>\n",
       "      <td>0.25600</td>\n",
       "      <td>0.000004</td>\n",
       "      <td>0.0904</td>\n",
       "      <td>0.786</td>\n",
       "      <td>110.962</td>\n",
       "      <td>audio_features</td>\n",
       "      <td>3Dv1eDb0MEgF93GpLXlucZ</td>\n",
       "      <td>spotify:track:3Dv1eDb0MEgF93GpLXlucZ</td>\n",
       "      <td>https://api.spotify.com/v1/tracks/3Dv1eDb0MEgF...</td>\n",
       "      <td>https://api.spotify.com/v1/audio-analysis/3Dv1...</td>\n",
       "      <td>237893</td>\n",
       "      <td>4</td>\n",
       "    </tr>\n",
       "    <tr>\n",
       "      <td>3</td>\n",
       "      <td>0.621</td>\n",
       "      <td>0.601</td>\n",
       "      <td>6</td>\n",
       "      <td>-5.616</td>\n",
       "      <td>0</td>\n",
       "      <td>0.1480</td>\n",
       "      <td>0.05220</td>\n",
       "      <td>0.000000</td>\n",
       "      <td>0.4600</td>\n",
       "      <td>0.457</td>\n",
       "      <td>116.735</td>\n",
       "      <td>audio_features</td>\n",
       "      <td>696DnlkuDOXcMAnKlTgXXK</td>\n",
       "      <td>spotify:track:696DnlkuDOXcMAnKlTgXXK</td>\n",
       "      <td>https://api.spotify.com/v1/tracks/696DnlkuDOXc...</td>\n",
       "      <td>https://api.spotify.com/v1/audio-analysis/696D...</td>\n",
       "      <td>163636</td>\n",
       "      <td>5</td>\n",
       "    </tr>\n",
       "    <tr>\n",
       "      <td>4</td>\n",
       "      <td>0.794</td>\n",
       "      <td>0.793</td>\n",
       "      <td>11</td>\n",
       "      <td>-4.521</td>\n",
       "      <td>0</td>\n",
       "      <td>0.0842</td>\n",
       "      <td>0.01250</td>\n",
       "      <td>0.000000</td>\n",
       "      <td>0.0952</td>\n",
       "      <td>0.677</td>\n",
       "      <td>123.941</td>\n",
       "      <td>audio_features</td>\n",
       "      <td>6WrI0LAC5M1Rw2MnX2ZvEg</td>\n",
       "      <td>spotify:track:6WrI0LAC5M1Rw2MnX2ZvEg</td>\n",
       "      <td>https://api.spotify.com/v1/tracks/6WrI0LAC5M1R...</td>\n",
       "      <td>https://api.spotify.com/v1/audio-analysis/6WrI...</td>\n",
       "      <td>183290</td>\n",
       "      <td>4</td>\n",
       "    </tr>\n",
       "  </tbody>\n",
       "</table>\n",
       "</div>"
      ],
      "text/plain": [
       "   danceability  energy  key  loudness  mode  speechiness  acousticness  \\\n",
       "0         0.896   0.586   10    -6.687     0       0.0559       0.10400   \n",
       "1         0.513   0.796    1    -4.075     1       0.0629       0.00147   \n",
       "2         0.787   0.673   11    -4.577     0       0.1580       0.25600   \n",
       "3         0.621   0.601    6    -5.616     0       0.1480       0.05220   \n",
       "4         0.794   0.793   11    -4.521     0       0.0842       0.01250   \n",
       "\n",
       "   instrumentalness  liveness  valence    tempo            type  \\\n",
       "0          0.000000    0.7900    0.642  116.971  audio_features   \n",
       "1          0.000209    0.0938    0.345  171.017  audio_features   \n",
       "2          0.000004    0.0904    0.786  110.962  audio_features   \n",
       "3          0.000000    0.4600    0.457  116.735  audio_features   \n",
       "4          0.000000    0.0952    0.677  123.941  audio_features   \n",
       "\n",
       "                       id                                   uri  \\\n",
       "0  0nbXyq5TXYPCO7pr3N8S4I  spotify:track:0nbXyq5TXYPCO7pr3N8S4I   \n",
       "1  0sf12qNH5qcw8qpgymFOqD  spotify:track:0sf12qNH5qcw8qpgymFOqD   \n",
       "2  3Dv1eDb0MEgF93GpLXlucZ  spotify:track:3Dv1eDb0MEgF93GpLXlucZ   \n",
       "3  696DnlkuDOXcMAnKlTgXXK  spotify:track:696DnlkuDOXcMAnKlTgXXK   \n",
       "4  6WrI0LAC5M1Rw2MnX2ZvEg  spotify:track:6WrI0LAC5M1Rw2MnX2ZvEg   \n",
       "\n",
       "                                          track_href  \\\n",
       "0  https://api.spotify.com/v1/tracks/0nbXyq5TXYPC...   \n",
       "1  https://api.spotify.com/v1/tracks/0sf12qNH5qcw...   \n",
       "2  https://api.spotify.com/v1/tracks/3Dv1eDb0MEgF...   \n",
       "3  https://api.spotify.com/v1/tracks/696DnlkuDOXc...   \n",
       "4  https://api.spotify.com/v1/tracks/6WrI0LAC5M1R...   \n",
       "\n",
       "                                        analysis_url  duration_ms  \\\n",
       "0  https://api.spotify.com/v1/audio-analysis/0nbX...       196653   \n",
       "1  https://api.spotify.com/v1/audio-analysis/0sf1...       201573   \n",
       "2  https://api.spotify.com/v1/audio-analysis/3Dv1...       237893   \n",
       "3  https://api.spotify.com/v1/audio-analysis/696D...       163636   \n",
       "4  https://api.spotify.com/v1/audio-analysis/6WrI...       183290   \n",
       "\n",
       "   time_signature  \n",
       "0               4  \n",
       "1               4  \n",
       "2               4  \n",
       "3               5  \n",
       "4               4  "
      ]
     },
     "execution_count": 22,
     "metadata": {},
     "output_type": "execute_result"
    }
   ],
   "source": [
    "print(\"Shape of the dataset:\", df_audio_features1.shape)\n",
    "df_audio_features1.head()"
   ]
  },
  {
   "cell_type": "code",
   "execution_count": 23,
   "metadata": {},
   "outputs": [
    {
     "name": "stdout",
     "output_type": "stream",
     "text": [
      "Number of tracks where no audio features were available: 0\n"
     ]
    }
   ],
   "source": [
    "# empty list, batchsize and the counter for None results\n",
    "rows2 = []\n",
    "batchsize = 100\n",
    "None_counter = 0\n",
    "\n",
    "for i in range(0,len(df_tracks2['track_id']),batchsize):\n",
    "    batch2 = df_tracks2['track_id'][i:i+batchsize]\n",
    "    feature_results2 = sp.audio_features(batch2)\n",
    "    for i, t in enumerate(feature_results2):\n",
    "        if t == None:\n",
    "            None_counter = None_counter + 1\n",
    "        else:\n",
    "            rows2.append(t)\n",
    "            \n",
    "print('Number of tracks where no audio features were available:',None_counter)"
   ]
  },
  {
   "cell_type": "code",
   "execution_count": 24,
   "metadata": {},
   "outputs": [
    {
     "name": "stdout",
     "output_type": "stream",
     "text": [
      "Shape of the dataset: (977, 18)\n"
     ]
    },
    {
     "data": {
      "text/html": [
       "<div>\n",
       "<style scoped>\n",
       "    .dataframe tbody tr th:only-of-type {\n",
       "        vertical-align: middle;\n",
       "    }\n",
       "\n",
       "    .dataframe tbody tr th {\n",
       "        vertical-align: top;\n",
       "    }\n",
       "\n",
       "    .dataframe thead th {\n",
       "        text-align: right;\n",
       "    }\n",
       "</style>\n",
       "<table border=\"1\" class=\"dataframe\">\n",
       "  <thead>\n",
       "    <tr style=\"text-align: right;\">\n",
       "      <th></th>\n",
       "      <th>danceability</th>\n",
       "      <th>energy</th>\n",
       "      <th>key</th>\n",
       "      <th>loudness</th>\n",
       "      <th>mode</th>\n",
       "      <th>speechiness</th>\n",
       "      <th>acousticness</th>\n",
       "      <th>instrumentalness</th>\n",
       "      <th>liveness</th>\n",
       "      <th>valence</th>\n",
       "      <th>tempo</th>\n",
       "      <th>type</th>\n",
       "      <th>id</th>\n",
       "      <th>uri</th>\n",
       "      <th>track_href</th>\n",
       "      <th>analysis_url</th>\n",
       "      <th>duration_ms</th>\n",
       "      <th>time_signature</th>\n",
       "    </tr>\n",
       "  </thead>\n",
       "  <tbody>\n",
       "    <tr>\n",
       "      <td>0</td>\n",
       "      <td>0.872</td>\n",
       "      <td>0.39100</td>\n",
       "      <td>0</td>\n",
       "      <td>-9.144</td>\n",
       "      <td>0</td>\n",
       "      <td>0.2420</td>\n",
       "      <td>0.46900</td>\n",
       "      <td>0.000004</td>\n",
       "      <td>0.297</td>\n",
       "      <td>0.437</td>\n",
       "      <td>134.021</td>\n",
       "      <td>audio_features</td>\n",
       "      <td>7m9OqQk4RVRkw9JJdeAw96</td>\n",
       "      <td>spotify:track:7m9OqQk4RVRkw9JJdeAw96</td>\n",
       "      <td>https://api.spotify.com/v1/tracks/7m9OqQk4RVRk...</td>\n",
       "      <td>https://api.spotify.com/v1/audio-analysis/7m9O...</td>\n",
       "      <td>119133</td>\n",
       "      <td>4</td>\n",
       "    </tr>\n",
       "    <tr>\n",
       "      <td>1</td>\n",
       "      <td>0.732</td>\n",
       "      <td>0.75000</td>\n",
       "      <td>11</td>\n",
       "      <td>-6.366</td>\n",
       "      <td>0</td>\n",
       "      <td>0.2310</td>\n",
       "      <td>0.00264</td>\n",
       "      <td>0.000000</td>\n",
       "      <td>0.109</td>\n",
       "      <td>0.401</td>\n",
       "      <td>155.096</td>\n",
       "      <td>audio_features</td>\n",
       "      <td>7GX5flRQZVHRAGd6B4TmDO</td>\n",
       "      <td>spotify:track:7GX5flRQZVHRAGd6B4TmDO</td>\n",
       "      <td>https://api.spotify.com/v1/tracks/7GX5flRQZVHR...</td>\n",
       "      <td>https://api.spotify.com/v1/audio-analysis/7GX5...</td>\n",
       "      <td>182707</td>\n",
       "      <td>4</td>\n",
       "    </tr>\n",
       "    <tr>\n",
       "      <td>2</td>\n",
       "      <td>0.797</td>\n",
       "      <td>0.53300</td>\n",
       "      <td>0</td>\n",
       "      <td>-9.740</td>\n",
       "      <td>0</td>\n",
       "      <td>0.0412</td>\n",
       "      <td>0.01720</td>\n",
       "      <td>0.000152</td>\n",
       "      <td>0.103</td>\n",
       "      <td>0.329</td>\n",
       "      <td>131.036</td>\n",
       "      <td>audio_features</td>\n",
       "      <td>7AQim7LbvFVZJE3O8TYgf2</td>\n",
       "      <td>spotify:track:7AQim7LbvFVZJE3O8TYgf2</td>\n",
       "      <td>https://api.spotify.com/v1/tracks/7AQim7LbvFVZ...</td>\n",
       "      <td>https://api.spotify.com/v1/audio-analysis/7AQi...</td>\n",
       "      <td>146520</td>\n",
       "      <td>4</td>\n",
       "    </tr>\n",
       "    <tr>\n",
       "      <td>3</td>\n",
       "      <td>0.000</td>\n",
       "      <td>0.00005</td>\n",
       "      <td>10</td>\n",
       "      <td>-32.354</td>\n",
       "      <td>0</td>\n",
       "      <td>0.0000</td>\n",
       "      <td>0.92300</td>\n",
       "      <td>0.297000</td>\n",
       "      <td>0.110</td>\n",
       "      <td>0.000</td>\n",
       "      <td>0.000</td>\n",
       "      <td>audio_features</td>\n",
       "      <td>65rkHetZXO6DQmBh3C2YtW</td>\n",
       "      <td>spotify:track:65rkHetZXO6DQmBh3C2YtW</td>\n",
       "      <td>https://api.spotify.com/v1/tracks/65rkHetZXO6D...</td>\n",
       "      <td>https://api.spotify.com/v1/audio-analysis/65rk...</td>\n",
       "      <td>147097</td>\n",
       "      <td>0</td>\n",
       "    </tr>\n",
       "    <tr>\n",
       "      <td>4</td>\n",
       "      <td>0.000</td>\n",
       "      <td>0.00002</td>\n",
       "      <td>2</td>\n",
       "      <td>-40.449</td>\n",
       "      <td>0</td>\n",
       "      <td>0.0000</td>\n",
       "      <td>0.94400</td>\n",
       "      <td>0.869000</td>\n",
       "      <td>0.112</td>\n",
       "      <td>0.000</td>\n",
       "      <td>0.000</td>\n",
       "      <td>audio_features</td>\n",
       "      <td>6H4B9gJD6eQlNoEh8q85pP</td>\n",
       "      <td>spotify:track:6H4B9gJD6eQlNoEh8q85pP</td>\n",
       "      <td>https://api.spotify.com/v1/tracks/6H4B9gJD6eQl...</td>\n",
       "      <td>https://api.spotify.com/v1/audio-analysis/6H4B...</td>\n",
       "      <td>135484</td>\n",
       "      <td>0</td>\n",
       "    </tr>\n",
       "  </tbody>\n",
       "</table>\n",
       "</div>"
      ],
      "text/plain": [
       "   danceability   energy  key  loudness  mode  speechiness  acousticness  \\\n",
       "0         0.872  0.39100    0    -9.144     0       0.2420       0.46900   \n",
       "1         0.732  0.75000   11    -6.366     0       0.2310       0.00264   \n",
       "2         0.797  0.53300    0    -9.740     0       0.0412       0.01720   \n",
       "3         0.000  0.00005   10   -32.354     0       0.0000       0.92300   \n",
       "4         0.000  0.00002    2   -40.449     0       0.0000       0.94400   \n",
       "\n",
       "   instrumentalness  liveness  valence    tempo            type  \\\n",
       "0          0.000004     0.297    0.437  134.021  audio_features   \n",
       "1          0.000000     0.109    0.401  155.096  audio_features   \n",
       "2          0.000152     0.103    0.329  131.036  audio_features   \n",
       "3          0.297000     0.110    0.000    0.000  audio_features   \n",
       "4          0.869000     0.112    0.000    0.000  audio_features   \n",
       "\n",
       "                       id                                   uri  \\\n",
       "0  7m9OqQk4RVRkw9JJdeAw96  spotify:track:7m9OqQk4RVRkw9JJdeAw96   \n",
       "1  7GX5flRQZVHRAGd6B4TmDO  spotify:track:7GX5flRQZVHRAGd6B4TmDO   \n",
       "2  7AQim7LbvFVZJE3O8TYgf2  spotify:track:7AQim7LbvFVZJE3O8TYgf2   \n",
       "3  65rkHetZXO6DQmBh3C2YtW  spotify:track:65rkHetZXO6DQmBh3C2YtW   \n",
       "4  6H4B9gJD6eQlNoEh8q85pP  spotify:track:6H4B9gJD6eQlNoEh8q85pP   \n",
       "\n",
       "                                          track_href  \\\n",
       "0  https://api.spotify.com/v1/tracks/7m9OqQk4RVRk...   \n",
       "1  https://api.spotify.com/v1/tracks/7GX5flRQZVHR...   \n",
       "2  https://api.spotify.com/v1/tracks/7AQim7LbvFVZ...   \n",
       "3  https://api.spotify.com/v1/tracks/65rkHetZXO6D...   \n",
       "4  https://api.spotify.com/v1/tracks/6H4B9gJD6eQl...   \n",
       "\n",
       "                                        analysis_url  duration_ms  \\\n",
       "0  https://api.spotify.com/v1/audio-analysis/7m9O...       119133   \n",
       "1  https://api.spotify.com/v1/audio-analysis/7GX5...       182707   \n",
       "2  https://api.spotify.com/v1/audio-analysis/7AQi...       146520   \n",
       "3  https://api.spotify.com/v1/audio-analysis/65rk...       147097   \n",
       "4  https://api.spotify.com/v1/audio-analysis/6H4B...       135484   \n",
       "\n",
       "   time_signature  \n",
       "0               4  \n",
       "1               4  \n",
       "2               4  \n",
       "3               0  \n",
       "4               0  "
      ]
     },
     "execution_count": 24,
     "metadata": {},
     "output_type": "execute_result"
    }
   ],
   "source": [
    "df_audio_features2 = pd.DataFrame.from_dict(rows2,orient='columns')\n",
    "print(\"Shape of the dataset:\", df_audio_features2.shape)\n",
    "df_audio_features2.head()"
   ]
  },
  {
   "cell_type": "markdown",
   "metadata": {},
   "source": [
    "## Section 3.1(C)"
   ]
  },
  {
   "cell_type": "markdown",
   "metadata": {},
   "source": [
    "### Data Cleaning of Spotify Datasets"
   ]
  },
  {
   "cell_type": "code",
   "execution_count": 25,
   "metadata": {},
   "outputs": [
    {
     "data": {
      "text/plain": [
       "(981, 14)"
      ]
     },
     "execution_count": 25,
     "metadata": {},
     "output_type": "execute_result"
    }
   ],
   "source": [
    "#dropping unnecessary columns\n",
    "columns_to_drop = ['analysis_url','track_href','type','uri']\n",
    "df_audio_features.drop(columns_to_drop, axis=1,inplace=True)\n",
    "df_audio_features.rename(columns={'id': 'track_id'}, inplace=True)\n",
    "df_audio_features.shape"
   ]
  },
  {
   "cell_type": "code",
   "execution_count": 26,
   "metadata": {},
   "outputs": [
    {
     "name": "stdout",
     "output_type": "stream",
     "text": [
      "Shape of the dataset: (981, 14)\n"
     ]
    }
   ],
   "source": [
    "#merging both dataframes\n",
    "df = pd.merge(df_tracks,df_audio_features,on='track_id',how='inner')\n",
    "print(\"Shape of the dataset:\", df_audio_features.shape)"
   ]
  },
  {
   "cell_type": "code",
   "execution_count": 27,
   "metadata": {},
   "outputs": [
    {
     "data": {
      "text/plain": [
       "(960, 14)"
      ]
     },
     "execution_count": 27,
     "metadata": {},
     "output_type": "execute_result"
    }
   ],
   "source": [
    "columns_to_drop = ['analysis_url','track_href','type','uri']\n",
    "df_audio_features1.drop(columns_to_drop, axis=1,inplace=True)\n",
    "df_audio_features1.rename(columns={'id': 'track_id'}, inplace=True)\n",
    "df_audio_features1.shape"
   ]
  },
  {
   "cell_type": "code",
   "execution_count": 28,
   "metadata": {},
   "outputs": [
    {
     "name": "stdout",
     "output_type": "stream",
     "text": [
      "Shape of the dataset: (960, 14)\n"
     ]
    }
   ],
   "source": [
    "#merging both dataframes of tracks and audio features for spotify \n",
    "df1 = pd.merge(df_tracks1,df_audio_features1,on='track_id',how='inner')\n",
    "print(\"Shape of the dataset:\", df_audio_features1.shape)"
   ]
  },
  {
   "cell_type": "code",
   "execution_count": 29,
   "metadata": {},
   "outputs": [
    {
     "data": {
      "text/plain": [
       "(977, 14)"
      ]
     },
     "execution_count": 29,
     "metadata": {},
     "output_type": "execute_result"
    }
   ],
   "source": [
    "#dropping unnecessary columns\n",
    "columns_to_drop = ['analysis_url','track_href','type','uri']\n",
    "df_audio_features2.drop(columns_to_drop, axis=1,inplace=True)\n",
    "df_audio_features2.rename(columns={'id': 'track_id'}, inplace=True)\n",
    "df_audio_features2.shape"
   ]
  },
  {
   "cell_type": "code",
   "execution_count": 30,
   "metadata": {},
   "outputs": [
    {
     "name": "stdout",
     "output_type": "stream",
     "text": [
      "Shape of the dataset: (977, 14)\n"
     ]
    }
   ],
   "source": [
    "#merging both dataframes\n",
    "df2 = pd.merge(df_tracks2,df_audio_features2,on='track_id',how='inner')\n",
    "print(\"Shape of the dataset:\", df_audio_features2.shape)"
   ]
  },
  {
   "cell_type": "code",
   "execution_count": 31,
   "metadata": {},
   "outputs": [
    {
     "data": {
      "text/html": [
       "<table border=\"1\" class=\"dataframe\">\n",
       "  <thead>\n",
       "    <tr style=\"text-align: right;\">\n",
       "      <th>artist_name</th>\n",
       "      <th>track_name</th>\n",
       "      <th>track_id</th>\n",
       "      <th>popularity</th>\n",
       "      <th>danceability</th>\n",
       "      <th>energy</th>\n",
       "      <th>key</th>\n",
       "      <th>loudness</th>\n",
       "      <th>mode</th>\n",
       "      <th>speechiness</th>\n",
       "      <th>acousticness</th>\n",
       "      <th>instrumentalness</th>\n",
       "      <th>liveness</th>\n",
       "      <th>valence</th>\n",
       "      <th>tempo</th>\n",
       "      <th>duration_ms</th>\n",
       "      <th>time_signature</th>\n",
       "    </tr>\n",
       "  </thead>\n",
       "  <tbody>\n",
       "    <tr>\n",
       "      <td>Trevor Daniel</td>\n",
       "      <td>Falling</td>\n",
       "      <td>4TnjEaWOeW0eKTKIEvJyCa</td>\n",
       "      <td>96</td>\n",
       "      <td>0.784</td>\n",
       "      <td>0.430</td>\n",
       "      <td>10</td>\n",
       "      <td>-8.756</td>\n",
       "      <td>0</td>\n",
       "      <td>0.0364</td>\n",
       "      <td>0.123</td>\n",
       "      <td>0.00000</td>\n",
       "      <td>0.0887</td>\n",
       "      <td>0.2360</td>\n",
       "      <td>127.087</td>\n",
       "      <td>159382</td>\n",
       "      <td>4</td>\n",
       "    </tr>\n",
       "    <tr>\n",
       "      <td>Billie Eilish</td>\n",
       "      <td>lovely (with Khalid)</td>\n",
       "      <td>0u2P5u6lvoDfwTYjAADbn4</td>\n",
       "      <td>90</td>\n",
       "      <td>0.351</td>\n",
       "      <td>0.296</td>\n",
       "      <td>4</td>\n",
       "      <td>-10.109</td>\n",
       "      <td>0</td>\n",
       "      <td>0.0333</td>\n",
       "      <td>0.934</td>\n",
       "      <td>0.00000</td>\n",
       "      <td>0.0950</td>\n",
       "      <td>0.1200</td>\n",
       "      <td>115.284</td>\n",
       "      <td>200186</td>\n",
       "      <td>4</td>\n",
       "    </tr>\n",
       "    <tr>\n",
       "      <td>Juice WRLD</td>\n",
       "      <td>Lucid Dreams</td>\n",
       "      <td>285pBltuF7vW8TeWk8hdRR</td>\n",
       "      <td>89</td>\n",
       "      <td>0.511</td>\n",
       "      <td>0.566</td>\n",
       "      <td>6</td>\n",
       "      <td>-7.230</td>\n",
       "      <td>0</td>\n",
       "      <td>0.2000</td>\n",
       "      <td>0.349</td>\n",
       "      <td>0.00000</td>\n",
       "      <td>0.3400</td>\n",
       "      <td>0.2180</td>\n",
       "      <td>83.903</td>\n",
       "      <td>239836</td>\n",
       "      <td>4</td>\n",
       "    </tr>\n",
       "    <tr>\n",
       "      <td>Post Malone</td>\n",
       "      <td>rockstar (feat. 21 Savage)</td>\n",
       "      <td>0e7ipj03S05BNilyu5bRzt</td>\n",
       "      <td>87</td>\n",
       "      <td>0.585</td>\n",
       "      <td>0.520</td>\n",
       "      <td>5</td>\n",
       "      <td>-6.136</td>\n",
       "      <td>0</td>\n",
       "      <td>0.0712</td>\n",
       "      <td>0.124</td>\n",
       "      <td>0.00007</td>\n",
       "      <td>0.1310</td>\n",
       "      <td>0.1290</td>\n",
       "      <td>159.801</td>\n",
       "      <td>218147</td>\n",
       "      <td>4</td>\n",
       "    </tr>\n",
       "    <tr>\n",
       "      <td>Kina</td>\n",
       "      <td>Get You The Moon (feat. Snøw)</td>\n",
       "      <td>4ZLzoOkj0MPWrTLvooIuaa</td>\n",
       "      <td>87</td>\n",
       "      <td>0.498</td>\n",
       "      <td>0.235</td>\n",
       "      <td>1</td>\n",
       "      <td>-16.541</td>\n",
       "      <td>0</td>\n",
       "      <td>0.1880</td>\n",
       "      <td>0.720</td>\n",
       "      <td>0.00000</td>\n",
       "      <td>0.1440</td>\n",
       "      <td>0.0895</td>\n",
       "      <td>118.917</td>\n",
       "      <td>179080</td>\n",
       "      <td>4</td>\n",
       "    </tr>\n",
       "  </tbody>\n",
       "</table>"
      ],
      "text/plain": [
       "<IPython.core.display.HTML object>"
      ]
     },
     "metadata": {},
     "output_type": "display_data"
    }
   ],
   "source": [
    "#final dataset for 2018\n",
    "df = df.sort_values('popularity', ascending=False)\n",
    "display(HTML(df.head().to_html(index=False)))"
   ]
  },
  {
   "cell_type": "code",
   "execution_count": 32,
   "metadata": {},
   "outputs": [
    {
     "data": {
      "text/html": [
       "<table border=\"1\" class=\"dataframe\">\n",
       "  <thead>\n",
       "    <tr style=\"text-align: right;\">\n",
       "      <th>artist_name</th>\n",
       "      <th>track_name</th>\n",
       "      <th>track_id</th>\n",
       "      <th>popularity</th>\n",
       "      <th>danceability</th>\n",
       "      <th>energy</th>\n",
       "      <th>key</th>\n",
       "      <th>loudness</th>\n",
       "      <th>mode</th>\n",
       "      <th>speechiness</th>\n",
       "      <th>acousticness</th>\n",
       "      <th>instrumentalness</th>\n",
       "      <th>liveness</th>\n",
       "      <th>valence</th>\n",
       "      <th>tempo</th>\n",
       "      <th>duration_ms</th>\n",
       "      <th>time_signature</th>\n",
       "    </tr>\n",
       "  </thead>\n",
       "  <tbody>\n",
       "    <tr>\n",
       "      <td>The Weeknd</td>\n",
       "      <td>Blinding Lights</td>\n",
       "      <td>0sf12qNH5qcw8qpgymFOqD</td>\n",
       "      <td>100</td>\n",
       "      <td>0.513</td>\n",
       "      <td>0.796</td>\n",
       "      <td>1</td>\n",
       "      <td>-4.075</td>\n",
       "      <td>1</td>\n",
       "      <td>0.0629</td>\n",
       "      <td>0.00147</td>\n",
       "      <td>0.000209</td>\n",
       "      <td>0.0938</td>\n",
       "      <td>0.345</td>\n",
       "      <td>171.017</td>\n",
       "      <td>201573</td>\n",
       "      <td>4</td>\n",
       "    </tr>\n",
       "    <tr>\n",
       "      <td>Roddy Ricch</td>\n",
       "      <td>The Box</td>\n",
       "      <td>0nbXyq5TXYPCO7pr3N8S4I</td>\n",
       "      <td>99</td>\n",
       "      <td>0.896</td>\n",
       "      <td>0.586</td>\n",
       "      <td>10</td>\n",
       "      <td>-6.687</td>\n",
       "      <td>0</td>\n",
       "      <td>0.0559</td>\n",
       "      <td>0.10400</td>\n",
       "      <td>0.000000</td>\n",
       "      <td>0.7900</td>\n",
       "      <td>0.642</td>\n",
       "      <td>116.971</td>\n",
       "      <td>196653</td>\n",
       "      <td>4</td>\n",
       "    </tr>\n",
       "    <tr>\n",
       "      <td>Dua Lipa</td>\n",
       "      <td>Don't Start Now</td>\n",
       "      <td>6WrI0LAC5M1Rw2MnX2ZvEg</td>\n",
       "      <td>98</td>\n",
       "      <td>0.794</td>\n",
       "      <td>0.793</td>\n",
       "      <td>11</td>\n",
       "      <td>-4.521</td>\n",
       "      <td>0</td>\n",
       "      <td>0.0842</td>\n",
       "      <td>0.01250</td>\n",
       "      <td>0.000000</td>\n",
       "      <td>0.0952</td>\n",
       "      <td>0.677</td>\n",
       "      <td>123.941</td>\n",
       "      <td>183290</td>\n",
       "      <td>4</td>\n",
       "    </tr>\n",
       "    <tr>\n",
       "      <td>Tones And I</td>\n",
       "      <td>Dance Monkey</td>\n",
       "      <td>2XU0oxnq2qxCpomAAuJY8K</td>\n",
       "      <td>97</td>\n",
       "      <td>0.824</td>\n",
       "      <td>0.588</td>\n",
       "      <td>6</td>\n",
       "      <td>-6.400</td>\n",
       "      <td>0</td>\n",
       "      <td>0.0924</td>\n",
       "      <td>0.69200</td>\n",
       "      <td>0.000104</td>\n",
       "      <td>0.1490</td>\n",
       "      <td>0.513</td>\n",
       "      <td>98.027</td>\n",
       "      <td>209438</td>\n",
       "      <td>4</td>\n",
       "    </tr>\n",
       "    <tr>\n",
       "      <td>Doja Cat</td>\n",
       "      <td>Say So</td>\n",
       "      <td>3Dv1eDb0MEgF93GpLXlucZ</td>\n",
       "      <td>96</td>\n",
       "      <td>0.787</td>\n",
       "      <td>0.673</td>\n",
       "      <td>11</td>\n",
       "      <td>-4.577</td>\n",
       "      <td>0</td>\n",
       "      <td>0.1580</td>\n",
       "      <td>0.25600</td>\n",
       "      <td>0.000004</td>\n",
       "      <td>0.0904</td>\n",
       "      <td>0.786</td>\n",
       "      <td>110.962</td>\n",
       "      <td>237893</td>\n",
       "      <td>4</td>\n",
       "    </tr>\n",
       "  </tbody>\n",
       "</table>"
      ],
      "text/plain": [
       "<IPython.core.display.HTML object>"
      ]
     },
     "metadata": {},
     "output_type": "display_data"
    }
   ],
   "source": [
    "#final dataset for 2019\n",
    "df1 = df1.sort_values('popularity', ascending=False)\n",
    "display(HTML(df1.head().to_html(index=False)))"
   ]
  },
  {
   "cell_type": "code",
   "execution_count": 33,
   "metadata": {},
   "outputs": [
    {
     "data": {
      "text/html": [
       "<table border=\"1\" class=\"dataframe\">\n",
       "  <thead>\n",
       "    <tr style=\"text-align: right;\">\n",
       "      <th>artist_name</th>\n",
       "      <th>track_name</th>\n",
       "      <th>track_id</th>\n",
       "      <th>popularity</th>\n",
       "      <th>danceability</th>\n",
       "      <th>energy</th>\n",
       "      <th>key</th>\n",
       "      <th>loudness</th>\n",
       "      <th>mode</th>\n",
       "      <th>speechiness</th>\n",
       "      <th>acousticness</th>\n",
       "      <th>instrumentalness</th>\n",
       "      <th>liveness</th>\n",
       "      <th>valence</th>\n",
       "      <th>tempo</th>\n",
       "      <th>duration_ms</th>\n",
       "      <th>time_signature</th>\n",
       "    </tr>\n",
       "  </thead>\n",
       "  <tbody>\n",
       "    <tr>\n",
       "      <td>XXXTENTACION</td>\n",
       "      <td>Jocelyn Flores</td>\n",
       "      <td>7m9OqQk4RVRkw9JJdeAw96</td>\n",
       "      <td>87</td>\n",
       "      <td>0.872</td>\n",
       "      <td>0.39100</td>\n",
       "      <td>0</td>\n",
       "      <td>-9.144</td>\n",
       "      <td>0</td>\n",
       "      <td>0.2420</td>\n",
       "      <td>0.46900</td>\n",
       "      <td>0.000004</td>\n",
       "      <td>0.297</td>\n",
       "      <td>0.437</td>\n",
       "      <td>134.021</td>\n",
       "      <td>119133</td>\n",
       "      <td>4</td>\n",
       "    </tr>\n",
       "    <tr>\n",
       "      <td>Imagine Dragons</td>\n",
       "      <td>Believer</td>\n",
       "      <td>0pqnGHJpmpxLKifKRmU6WP</td>\n",
       "      <td>87</td>\n",
       "      <td>0.776</td>\n",
       "      <td>0.78000</td>\n",
       "      <td>10</td>\n",
       "      <td>-4.374</td>\n",
       "      <td>0</td>\n",
       "      <td>0.1280</td>\n",
       "      <td>0.06220</td>\n",
       "      <td>0.000000</td>\n",
       "      <td>0.081</td>\n",
       "      <td>0.666</td>\n",
       "      <td>124.949</td>\n",
       "      <td>204347</td>\n",
       "      <td>4</td>\n",
       "    </tr>\n",
       "    <tr>\n",
       "      <td>Ed Sheeran</td>\n",
       "      <td>Perfect</td>\n",
       "      <td>0tgVpDi06FyKpA1z0VMD4v</td>\n",
       "      <td>86</td>\n",
       "      <td>0.599</td>\n",
       "      <td>0.44800</td>\n",
       "      <td>8</td>\n",
       "      <td>-6.312</td>\n",
       "      <td>1</td>\n",
       "      <td>0.0232</td>\n",
       "      <td>0.16300</td>\n",
       "      <td>0.000000</td>\n",
       "      <td>0.106</td>\n",
       "      <td>0.168</td>\n",
       "      <td>95.050</td>\n",
       "      <td>263400</td>\n",
       "      <td>3</td>\n",
       "    </tr>\n",
       "    <tr>\n",
       "      <td>Lil Uzi Vert</td>\n",
       "      <td>XO Tour Llif3</td>\n",
       "      <td>7GX5flRQZVHRAGd6B4TmDO</td>\n",
       "      <td>85</td>\n",
       "      <td>0.732</td>\n",
       "      <td>0.75000</td>\n",
       "      <td>11</td>\n",
       "      <td>-6.366</td>\n",
       "      <td>0</td>\n",
       "      <td>0.2310</td>\n",
       "      <td>0.00264</td>\n",
       "      <td>0.000000</td>\n",
       "      <td>0.109</td>\n",
       "      <td>0.401</td>\n",
       "      <td>155.096</td>\n",
       "      <td>182707</td>\n",
       "      <td>4</td>\n",
       "    </tr>\n",
       "    <tr>\n",
       "      <td>Erik Eriksson</td>\n",
       "      <td>Clean White Noise - Loopable with no fade</td>\n",
       "      <td>2bRKxuH1o7pTmb1y4GfdEc</td>\n",
       "      <td>85</td>\n",
       "      <td>0.000</td>\n",
       "      <td>0.00342</td>\n",
       "      <td>8</td>\n",
       "      <td>-28.460</td>\n",
       "      <td>1</td>\n",
       "      <td>0.0000</td>\n",
       "      <td>0.79100</td>\n",
       "      <td>1.000000</td>\n",
       "      <td>0.111</td>\n",
       "      <td>0.000</td>\n",
       "      <td>0.000</td>\n",
       "      <td>90228</td>\n",
       "      <td>0</td>\n",
       "    </tr>\n",
       "  </tbody>\n",
       "</table>"
      ],
      "text/plain": [
       "<IPython.core.display.HTML object>"
      ]
     },
     "metadata": {},
     "output_type": "display_data"
    }
   ],
   "source": [
    "#final dataset for 2017\n",
    "df2 = df2.sort_values('popularity', ascending=False)\n",
    "display(HTML(df2.head().to_html(index=False)))"
   ]
  },
  {
   "cell_type": "markdown",
   "metadata": {},
   "source": [
    "## Section 3.2"
   ]
  },
  {
   "cell_type": "markdown",
   "metadata": {},
   "source": [
    "### Web Scraping for Deezer music streaming platform"
   ]
  },
  {
   "cell_type": "code",
   "execution_count": 34,
   "metadata": {},
   "outputs": [
    {
     "data": {
      "text/html": [
       "<img src=\"https://cdn.mos.cms.futurecdn.net/c6d31f92c1cb0f331bc2f0eae47187a5-970-80.jpg\" width=\"1000\"/>"
      ],
      "text/plain": [
       "<IPython.core.display.Image object>"
      ]
     },
     "execution_count": 34,
     "metadata": {},
     "output_type": "execute_result"
    }
   ],
   "source": [
    "im(url = \"https://cdn.mos.cms.futurecdn.net/c6d31f92c1cb0f331bc2f0eae47187a5-970-80.jpg\", width = 1000)"
   ]
  },
  {
   "cell_type": "code",
   "execution_count": 35,
   "metadata": {},
   "outputs": [],
   "source": [
    "#Getting the Deezer Id to initiate scraping from the platform\n",
    "deezer_id = 3219012724"
   ]
  },
  {
   "cell_type": "code",
   "execution_count": 36,
   "metadata": {},
   "outputs": [],
   "source": [
    "url = \"https://api.deezer.com/user/{deezer_id}\"\n",
    "user_response = requests.get(url)\n",
    "#user_response.content"
   ]
  },
  {
   "cell_type": "markdown",
   "metadata": {},
   "source": [
    "## Section 3.2 (A)"
   ]
  },
  {
   "cell_type": "markdown",
   "metadata": {},
   "source": [
    "### Data Extraction for Artists"
   ]
  },
  {
   "cell_type": "code",
   "execution_count": 37,
   "metadata": {},
   "outputs": [],
   "source": [
    "artists_url = f\"https://api.deezer.com/user/{deezer_id}/artists\"\n",
    "artists_response = requests.get(artists_url)\n",
    "#artists_response.json()"
   ]
  },
  {
   "cell_type": "code",
   "execution_count": 38,
   "metadata": {},
   "outputs": [],
   "source": [
    "artists = []  # we will store artists here\n",
    "all_artists_loaded = False # in the beginning nothing is loaded\n",
    "url = f\"https://api.deezer.com/user/{deezer_id}/artists\"\n",
    "\n",
    "while not all_artists_loaded:\n",
    "    response = requests.get(url).json()\n",
    "    artists += response['data']   # data attribute contains artists\n",
    "    if response.get('next'):      # there are more artists on the next page\n",
    "        url = response['next']   \n",
    "    else:                         # if there are no more followed artists\n",
    "        all_artists_loaded = True"
   ]
  },
  {
   "cell_type": "code",
   "execution_count": 39,
   "metadata": {},
   "outputs": [],
   "source": [
    "#artists"
   ]
  },
  {
   "cell_type": "code",
   "execution_count": 40,
   "metadata": {},
   "outputs": [],
   "source": [
    "releases = [] # we'll store all releases here\n",
    "\n",
    "for artist in artists:\n",
    "    # the old algorithm is still working here\n",
    "    all_releases_loaded = False\n",
    "    artist_id = artist['id']\n",
    "    url = f\"https://api.deezer.com/artist/{artist_id}/albums\"\n",
    "\n",
    "    while not all_releases_loaded:\n",
    "        response = requests.get(url).json()\n",
    "        releases += response['data']\n",
    "        if response.get('next'):\n",
    "            url = response['next']\n",
    "        else:\n",
    "            all_releases_loaded = True"
   ]
  },
  {
   "cell_type": "code",
   "execution_count": 41,
   "metadata": {},
   "outputs": [],
   "source": [
    "#releases"
   ]
  },
  {
   "cell_type": "code",
   "execution_count": 42,
   "metadata": {},
   "outputs": [],
   "source": [
    "today = datetime.date.today()\n",
    "oneyearago=today-datetime.timedelta(days=365)\n",
    "twoyear_ago = oneyearago - datetime.timedelta(days=365)\n",
    "threeyear_ago = twoyear_ago - datetime.timedelta(days=365)\n",
    "#print(oneyearago)"
   ]
  },
  {
   "cell_type": "code",
   "execution_count": 43,
   "metadata": {},
   "outputs": [],
   "source": [
    "releases = [] # we'll store all releases here\n",
    "\n",
    "for artist in artists:\n",
    "    # this time we'll store releases in a temporary array\n",
    "    current_artist_releases = []\n",
    "\n",
    "    # nothing changed here\n",
    "    all_releases_loaded = False\n",
    "    artist_id = artist['id']\n",
    "    url = f\"https://api.deezer.com/artist/{artist_id}/albums\"\n",
    "\n",
    "    while not all_releases_loaded:\n",
    "        response = requests.get(url).json()\n",
    "\n",
    "        # now we're saving each page's response to current_artists_releases\n",
    "        # instead of straight to releases\n",
    "        current_artist_releases += response['data']\n",
    "        \n",
    "        # this stays the same too\n",
    "        if response.get('next'):\n",
    "            url = response['next']\n",
    "        else:\n",
    "            all_releases_loaded = True\n",
    "            \n",
    "    # and after we've fetched all releases\n",
    "    # we can add full title to all of them\n",
    "    for release in current_artist_releases:\n",
    "        full_title = f\"{artist['name']} — {release['title']}\"\n",
    "        release['full_title'] = full_title\n",
    "        \n",
    "    # and only after we every release from current artist\n",
    "    # has a full title we can add them to the main releases\n",
    "    releases += current_artist_releases"
   ]
  },
  {
   "cell_type": "markdown",
   "metadata": {},
   "source": [
    "## Section 3.2 (B)"
   ]
  },
  {
   "cell_type": "markdown",
   "metadata": {},
   "source": [
    "### Data Extraction for 2017, 2018 and 2019 datasets for all the released tracks"
   ]
  },
  {
   "cell_type": "code",
   "execution_count": 44,
   "metadata": {},
   "outputs": [],
   "source": [
    "#Getting the releases for the last 3 years- 2017,2018,2019.\n",
    "\n",
    "latest_releases1 = [\n",
    "    release for release in releases\n",
    "    if release['release_date'] > str(oneyearago)\n",
    "]\n",
    "latest_releases2 = [\n",
    "    release for release in releases\n",
    "    if release['release_date'] > str(twoyear_ago)\n",
    "]\n",
    "\n",
    "latest_releases3 = [\n",
    "    release for release in releases\n",
    "    if release['release_date'] > str(threeyear_ago)\n",
    "]"
   ]
  },
  {
   "cell_type": "code",
   "execution_count": 45,
   "metadata": {},
   "outputs": [],
   "source": [
    "# latest_releases\n",
    "# Creating a dataframe object from listoftuples for all 3 years\n",
    "Release_latest1 = pd.DataFrame(latest_releases1)\n",
    "Release_latest2 = pd.DataFrame(latest_releases2) \n",
    "Release_latest3 = pd.DataFrame(latest_releases3) \n",
    "# Release_latest1"
   ]
  },
  {
   "cell_type": "code",
   "execution_count": 46,
   "metadata": {},
   "outputs": [
    {
     "data": {
      "text/html": [
       "<div>\n",
       "<style scoped>\n",
       "    .dataframe tbody tr th:only-of-type {\n",
       "        vertical-align: middle;\n",
       "    }\n",
       "\n",
       "    .dataframe tbody tr th {\n",
       "        vertical-align: top;\n",
       "    }\n",
       "\n",
       "    .dataframe thead th {\n",
       "        text-align: right;\n",
       "    }\n",
       "</style>\n",
       "<table border=\"1\" class=\"dataframe\">\n",
       "  <thead>\n",
       "    <tr style=\"text-align: right;\">\n",
       "      <th></th>\n",
       "      <th>id</th>\n",
       "      <th>title</th>\n",
       "      <th>link</th>\n",
       "      <th>cover</th>\n",
       "      <th>cover_small</th>\n",
       "      <th>cover_medium</th>\n",
       "      <th>cover_big</th>\n",
       "      <th>cover_xl</th>\n",
       "      <th>genre_id</th>\n",
       "      <th>fans</th>\n",
       "      <th>release_date</th>\n",
       "      <th>record_type</th>\n",
       "      <th>tracklist</th>\n",
       "      <th>explicit_lyrics</th>\n",
       "      <th>type</th>\n",
       "      <th>full_title</th>\n",
       "    </tr>\n",
       "  </thead>\n",
       "  <tbody>\n",
       "    <tr>\n",
       "      <td>0</td>\n",
       "      <td>118255982</td>\n",
       "      <td>Courage (Deluxe Edition)</td>\n",
       "      <td>https://www.deezer.com/album/118255982</td>\n",
       "      <td>https://api.deezer.com/album/118255982/image</td>\n",
       "      <td>https://e-cdns-images.dzcdn.net/images/cover/0...</td>\n",
       "      <td>https://e-cdns-images.dzcdn.net/images/cover/0...</td>\n",
       "      <td>https://e-cdns-images.dzcdn.net/images/cover/0...</td>\n",
       "      <td>https://e-cdns-images.dzcdn.net/images/cover/0...</td>\n",
       "      <td>132</td>\n",
       "      <td>17989</td>\n",
       "      <td>2019-11-15</td>\n",
       "      <td>album</td>\n",
       "      <td>https://api.deezer.com/album/118255982/tracks</td>\n",
       "      <td>True</td>\n",
       "      <td>album</td>\n",
       "      <td>Céline Dion — Courage (Deluxe Edition)</td>\n",
       "    </tr>\n",
       "    <tr>\n",
       "      <td>1</td>\n",
       "      <td>125176162</td>\n",
       "      <td>Soul (Japanese Bonus Track)</td>\n",
       "      <td>https://www.deezer.com/album/125176162</td>\n",
       "      <td>https://api.deezer.com/album/125176162/image</td>\n",
       "      <td>https://e-cdns-images.dzcdn.net/images/cover/5...</td>\n",
       "      <td>https://e-cdns-images.dzcdn.net/images/cover/5...</td>\n",
       "      <td>https://e-cdns-images.dzcdn.net/images/cover/5...</td>\n",
       "      <td>https://e-cdns-images.dzcdn.net/images/cover/5...</td>\n",
       "      <td>132</td>\n",
       "      <td>152</td>\n",
       "      <td>2019-11-14</td>\n",
       "      <td>single</td>\n",
       "      <td>https://api.deezer.com/album/125176162/tracks</td>\n",
       "      <td>False</td>\n",
       "      <td>album</td>\n",
       "      <td>Céline Dion — Soul (Japanese Bonus Track)</td>\n",
       "    </tr>\n",
       "    <tr>\n",
       "      <td>2</td>\n",
       "      <td>113300682</td>\n",
       "      <td>Flying On My Own (Dave Audé Remix)</td>\n",
       "      <td>https://www.deezer.com/album/113300682</td>\n",
       "      <td>https://api.deezer.com/album/113300682/image</td>\n",
       "      <td>https://e-cdns-images.dzcdn.net/images/cover/2...</td>\n",
       "      <td>https://e-cdns-images.dzcdn.net/images/cover/2...</td>\n",
       "      <td>https://e-cdns-images.dzcdn.net/images/cover/2...</td>\n",
       "      <td>https://e-cdns-images.dzcdn.net/images/cover/2...</td>\n",
       "      <td>132</td>\n",
       "      <td>932</td>\n",
       "      <td>2019-09-27</td>\n",
       "      <td>single</td>\n",
       "      <td>https://api.deezer.com/album/113300682/tracks</td>\n",
       "      <td>False</td>\n",
       "      <td>album</td>\n",
       "      <td>Céline Dion — Flying On My Own (Dave Audé Remix)</td>\n",
       "    </tr>\n",
       "    <tr>\n",
       "      <td>3</td>\n",
       "      <td>111498922</td>\n",
       "      <td>Imperfections</td>\n",
       "      <td>https://www.deezer.com/album/111498922</td>\n",
       "      <td>https://api.deezer.com/album/111498922/image</td>\n",
       "      <td>https://e-cdns-images.dzcdn.net/images/cover/1...</td>\n",
       "      <td>https://e-cdns-images.dzcdn.net/images/cover/1...</td>\n",
       "      <td>https://e-cdns-images.dzcdn.net/images/cover/1...</td>\n",
       "      <td>https://e-cdns-images.dzcdn.net/images/cover/1...</td>\n",
       "      <td>132</td>\n",
       "      <td>3075</td>\n",
       "      <td>2019-09-18</td>\n",
       "      <td>single</td>\n",
       "      <td>https://api.deezer.com/album/111498922/tracks</td>\n",
       "      <td>False</td>\n",
       "      <td>album</td>\n",
       "      <td>Céline Dion — Imperfections</td>\n",
       "    </tr>\n",
       "    <tr>\n",
       "      <td>4</td>\n",
       "      <td>111498942</td>\n",
       "      <td>Courage</td>\n",
       "      <td>https://www.deezer.com/album/111498942</td>\n",
       "      <td>https://api.deezer.com/album/111498942/image</td>\n",
       "      <td>https://e-cdns-images.dzcdn.net/images/cover/1...</td>\n",
       "      <td>https://e-cdns-images.dzcdn.net/images/cover/1...</td>\n",
       "      <td>https://e-cdns-images.dzcdn.net/images/cover/1...</td>\n",
       "      <td>https://e-cdns-images.dzcdn.net/images/cover/1...</td>\n",
       "      <td>132</td>\n",
       "      <td>3810</td>\n",
       "      <td>2019-09-18</td>\n",
       "      <td>single</td>\n",
       "      <td>https://api.deezer.com/album/111498942/tracks</td>\n",
       "      <td>False</td>\n",
       "      <td>album</td>\n",
       "      <td>Céline Dion — Courage</td>\n",
       "    </tr>\n",
       "  </tbody>\n",
       "</table>\n",
       "</div>"
      ],
      "text/plain": [
       "          id                               title  \\\n",
       "0  118255982            Courage (Deluxe Edition)   \n",
       "1  125176162         Soul (Japanese Bonus Track)   \n",
       "2  113300682  Flying On My Own (Dave Audé Remix)   \n",
       "3  111498922                       Imperfections   \n",
       "4  111498942                             Courage   \n",
       "\n",
       "                                     link  \\\n",
       "0  https://www.deezer.com/album/118255982   \n",
       "1  https://www.deezer.com/album/125176162   \n",
       "2  https://www.deezer.com/album/113300682   \n",
       "3  https://www.deezer.com/album/111498922   \n",
       "4  https://www.deezer.com/album/111498942   \n",
       "\n",
       "                                          cover  \\\n",
       "0  https://api.deezer.com/album/118255982/image   \n",
       "1  https://api.deezer.com/album/125176162/image   \n",
       "2  https://api.deezer.com/album/113300682/image   \n",
       "3  https://api.deezer.com/album/111498922/image   \n",
       "4  https://api.deezer.com/album/111498942/image   \n",
       "\n",
       "                                         cover_small  \\\n",
       "0  https://e-cdns-images.dzcdn.net/images/cover/0...   \n",
       "1  https://e-cdns-images.dzcdn.net/images/cover/5...   \n",
       "2  https://e-cdns-images.dzcdn.net/images/cover/2...   \n",
       "3  https://e-cdns-images.dzcdn.net/images/cover/1...   \n",
       "4  https://e-cdns-images.dzcdn.net/images/cover/1...   \n",
       "\n",
       "                                        cover_medium  \\\n",
       "0  https://e-cdns-images.dzcdn.net/images/cover/0...   \n",
       "1  https://e-cdns-images.dzcdn.net/images/cover/5...   \n",
       "2  https://e-cdns-images.dzcdn.net/images/cover/2...   \n",
       "3  https://e-cdns-images.dzcdn.net/images/cover/1...   \n",
       "4  https://e-cdns-images.dzcdn.net/images/cover/1...   \n",
       "\n",
       "                                           cover_big  \\\n",
       "0  https://e-cdns-images.dzcdn.net/images/cover/0...   \n",
       "1  https://e-cdns-images.dzcdn.net/images/cover/5...   \n",
       "2  https://e-cdns-images.dzcdn.net/images/cover/2...   \n",
       "3  https://e-cdns-images.dzcdn.net/images/cover/1...   \n",
       "4  https://e-cdns-images.dzcdn.net/images/cover/1...   \n",
       "\n",
       "                                            cover_xl  genre_id   fans  \\\n",
       "0  https://e-cdns-images.dzcdn.net/images/cover/0...       132  17989   \n",
       "1  https://e-cdns-images.dzcdn.net/images/cover/5...       132    152   \n",
       "2  https://e-cdns-images.dzcdn.net/images/cover/2...       132    932   \n",
       "3  https://e-cdns-images.dzcdn.net/images/cover/1...       132   3075   \n",
       "4  https://e-cdns-images.dzcdn.net/images/cover/1...       132   3810   \n",
       "\n",
       "  release_date record_type                                      tracklist  \\\n",
       "0   2019-11-15       album  https://api.deezer.com/album/118255982/tracks   \n",
       "1   2019-11-14      single  https://api.deezer.com/album/125176162/tracks   \n",
       "2   2019-09-27      single  https://api.deezer.com/album/113300682/tracks   \n",
       "3   2019-09-18      single  https://api.deezer.com/album/111498922/tracks   \n",
       "4   2019-09-18      single  https://api.deezer.com/album/111498942/tracks   \n",
       "\n",
       "   explicit_lyrics   type                                        full_title  \n",
       "0             True  album            Céline Dion — Courage (Deluxe Edition)  \n",
       "1            False  album         Céline Dion — Soul (Japanese Bonus Track)  \n",
       "2            False  album  Céline Dion — Flying On My Own (Dave Audé Remix)  \n",
       "3            False  album                       Céline Dion — Imperfections  \n",
       "4            False  album                             Céline Dion — Courage  "
      ]
     },
     "execution_count": 46,
     "metadata": {},
     "output_type": "execute_result"
    }
   ],
   "source": [
    "Release_latest1.head()"
   ]
  },
  {
   "cell_type": "code",
   "execution_count": 47,
   "metadata": {},
   "outputs": [
    {
     "data": {
      "text/html": [
       "<div>\n",
       "<style scoped>\n",
       "    .dataframe tbody tr th:only-of-type {\n",
       "        vertical-align: middle;\n",
       "    }\n",
       "\n",
       "    .dataframe tbody tr th {\n",
       "        vertical-align: top;\n",
       "    }\n",
       "\n",
       "    .dataframe thead th {\n",
       "        text-align: right;\n",
       "    }\n",
       "</style>\n",
       "<table border=\"1\" class=\"dataframe\">\n",
       "  <thead>\n",
       "    <tr style=\"text-align: right;\">\n",
       "      <th></th>\n",
       "      <th>id</th>\n",
       "      <th>title</th>\n",
       "      <th>link</th>\n",
       "      <th>cover</th>\n",
       "      <th>cover_small</th>\n",
       "      <th>cover_medium</th>\n",
       "      <th>cover_big</th>\n",
       "      <th>cover_xl</th>\n",
       "      <th>genre_id</th>\n",
       "      <th>fans</th>\n",
       "      <th>release_date</th>\n",
       "      <th>record_type</th>\n",
       "      <th>tracklist</th>\n",
       "      <th>explicit_lyrics</th>\n",
       "      <th>type</th>\n",
       "      <th>full_title</th>\n",
       "    </tr>\n",
       "  </thead>\n",
       "  <tbody>\n",
       "    <tr>\n",
       "      <td>0</td>\n",
       "      <td>118255982</td>\n",
       "      <td>Courage (Deluxe Edition)</td>\n",
       "      <td>https://www.deezer.com/album/118255982</td>\n",
       "      <td>https://api.deezer.com/album/118255982/image</td>\n",
       "      <td>https://e-cdns-images.dzcdn.net/images/cover/0...</td>\n",
       "      <td>https://e-cdns-images.dzcdn.net/images/cover/0...</td>\n",
       "      <td>https://e-cdns-images.dzcdn.net/images/cover/0...</td>\n",
       "      <td>https://e-cdns-images.dzcdn.net/images/cover/0...</td>\n",
       "      <td>132</td>\n",
       "      <td>17989</td>\n",
       "      <td>2019-11-15</td>\n",
       "      <td>album</td>\n",
       "      <td>https://api.deezer.com/album/118255982/tracks</td>\n",
       "      <td>True</td>\n",
       "      <td>album</td>\n",
       "      <td>Céline Dion — Courage (Deluxe Edition)</td>\n",
       "    </tr>\n",
       "    <tr>\n",
       "      <td>1</td>\n",
       "      <td>84830532</td>\n",
       "      <td>All the Way...A Decade of Song</td>\n",
       "      <td>https://www.deezer.com/album/84830532</td>\n",
       "      <td>https://api.deezer.com/album/84830532/image</td>\n",
       "      <td>https://e-cdns-images.dzcdn.net/images/cover/9...</td>\n",
       "      <td>https://e-cdns-images.dzcdn.net/images/cover/9...</td>\n",
       "      <td>https://e-cdns-images.dzcdn.net/images/cover/9...</td>\n",
       "      <td>https://e-cdns-images.dzcdn.net/images/cover/9...</td>\n",
       "      <td>132</td>\n",
       "      <td>4745</td>\n",
       "      <td>2019-01-18</td>\n",
       "      <td>album</td>\n",
       "      <td>https://api.deezer.com/album/84830532/tracks</td>\n",
       "      <td>False</td>\n",
       "      <td>album</td>\n",
       "      <td>Céline Dion — All the Way...A Decade of Song</td>\n",
       "    </tr>\n",
       "    <tr>\n",
       "      <td>2</td>\n",
       "      <td>84838432</td>\n",
       "      <td>These Are Special Times</td>\n",
       "      <td>https://www.deezer.com/album/84838432</td>\n",
       "      <td>https://api.deezer.com/album/84838432/image</td>\n",
       "      <td>https://e-cdns-images.dzcdn.net/images/cover/a...</td>\n",
       "      <td>https://e-cdns-images.dzcdn.net/images/cover/a...</td>\n",
       "      <td>https://e-cdns-images.dzcdn.net/images/cover/a...</td>\n",
       "      <td>https://e-cdns-images.dzcdn.net/images/cover/a...</td>\n",
       "      <td>132</td>\n",
       "      <td>4819</td>\n",
       "      <td>2019-01-18</td>\n",
       "      <td>album</td>\n",
       "      <td>https://api.deezer.com/album/84838432/tracks</td>\n",
       "      <td>False</td>\n",
       "      <td>album</td>\n",
       "      <td>Céline Dion — These Are Special Times</td>\n",
       "    </tr>\n",
       "    <tr>\n",
       "      <td>3</td>\n",
       "      <td>84838542</td>\n",
       "      <td>The Very Best of Celine Dion</td>\n",
       "      <td>https://www.deezer.com/album/84838542</td>\n",
       "      <td>https://api.deezer.com/album/84838542/image</td>\n",
       "      <td>https://e-cdns-images.dzcdn.net/images/cover/0...</td>\n",
       "      <td>https://e-cdns-images.dzcdn.net/images/cover/0...</td>\n",
       "      <td>https://e-cdns-images.dzcdn.net/images/cover/0...</td>\n",
       "      <td>https://e-cdns-images.dzcdn.net/images/cover/0...</td>\n",
       "      <td>132</td>\n",
       "      <td>12934</td>\n",
       "      <td>2019-01-18</td>\n",
       "      <td>album</td>\n",
       "      <td>https://api.deezer.com/album/84838542/tracks</td>\n",
       "      <td>False</td>\n",
       "      <td>album</td>\n",
       "      <td>Céline Dion — The Very Best of Celine Dion</td>\n",
       "    </tr>\n",
       "    <tr>\n",
       "      <td>4</td>\n",
       "      <td>85033442</td>\n",
       "      <td>My Love Ultimate Essential Collection</td>\n",
       "      <td>https://www.deezer.com/album/85033442</td>\n",
       "      <td>https://api.deezer.com/album/85033442/image</td>\n",
       "      <td>https://e-cdns-images.dzcdn.net/images/cover/5...</td>\n",
       "      <td>https://e-cdns-images.dzcdn.net/images/cover/5...</td>\n",
       "      <td>https://e-cdns-images.dzcdn.net/images/cover/5...</td>\n",
       "      <td>https://e-cdns-images.dzcdn.net/images/cover/5...</td>\n",
       "      <td>132</td>\n",
       "      <td>8111</td>\n",
       "      <td>2019-01-18</td>\n",
       "      <td>album</td>\n",
       "      <td>https://api.deezer.com/album/85033442/tracks</td>\n",
       "      <td>False</td>\n",
       "      <td>album</td>\n",
       "      <td>Céline Dion — My Love Ultimate Essential Colle...</td>\n",
       "    </tr>\n",
       "  </tbody>\n",
       "</table>\n",
       "</div>"
      ],
      "text/plain": [
       "          id                                  title  \\\n",
       "0  118255982               Courage (Deluxe Edition)   \n",
       "1   84830532         All the Way...A Decade of Song   \n",
       "2   84838432                These Are Special Times   \n",
       "3   84838542           The Very Best of Celine Dion   \n",
       "4   85033442  My Love Ultimate Essential Collection   \n",
       "\n",
       "                                     link  \\\n",
       "0  https://www.deezer.com/album/118255982   \n",
       "1   https://www.deezer.com/album/84830532   \n",
       "2   https://www.deezer.com/album/84838432   \n",
       "3   https://www.deezer.com/album/84838542   \n",
       "4   https://www.deezer.com/album/85033442   \n",
       "\n",
       "                                          cover  \\\n",
       "0  https://api.deezer.com/album/118255982/image   \n",
       "1   https://api.deezer.com/album/84830532/image   \n",
       "2   https://api.deezer.com/album/84838432/image   \n",
       "3   https://api.deezer.com/album/84838542/image   \n",
       "4   https://api.deezer.com/album/85033442/image   \n",
       "\n",
       "                                         cover_small  \\\n",
       "0  https://e-cdns-images.dzcdn.net/images/cover/0...   \n",
       "1  https://e-cdns-images.dzcdn.net/images/cover/9...   \n",
       "2  https://e-cdns-images.dzcdn.net/images/cover/a...   \n",
       "3  https://e-cdns-images.dzcdn.net/images/cover/0...   \n",
       "4  https://e-cdns-images.dzcdn.net/images/cover/5...   \n",
       "\n",
       "                                        cover_medium  \\\n",
       "0  https://e-cdns-images.dzcdn.net/images/cover/0...   \n",
       "1  https://e-cdns-images.dzcdn.net/images/cover/9...   \n",
       "2  https://e-cdns-images.dzcdn.net/images/cover/a...   \n",
       "3  https://e-cdns-images.dzcdn.net/images/cover/0...   \n",
       "4  https://e-cdns-images.dzcdn.net/images/cover/5...   \n",
       "\n",
       "                                           cover_big  \\\n",
       "0  https://e-cdns-images.dzcdn.net/images/cover/0...   \n",
       "1  https://e-cdns-images.dzcdn.net/images/cover/9...   \n",
       "2  https://e-cdns-images.dzcdn.net/images/cover/a...   \n",
       "3  https://e-cdns-images.dzcdn.net/images/cover/0...   \n",
       "4  https://e-cdns-images.dzcdn.net/images/cover/5...   \n",
       "\n",
       "                                            cover_xl  genre_id   fans  \\\n",
       "0  https://e-cdns-images.dzcdn.net/images/cover/0...       132  17989   \n",
       "1  https://e-cdns-images.dzcdn.net/images/cover/9...       132   4745   \n",
       "2  https://e-cdns-images.dzcdn.net/images/cover/a...       132   4819   \n",
       "3  https://e-cdns-images.dzcdn.net/images/cover/0...       132  12934   \n",
       "4  https://e-cdns-images.dzcdn.net/images/cover/5...       132   8111   \n",
       "\n",
       "  release_date record_type                                      tracklist  \\\n",
       "0   2019-11-15       album  https://api.deezer.com/album/118255982/tracks   \n",
       "1   2019-01-18       album   https://api.deezer.com/album/84830532/tracks   \n",
       "2   2019-01-18       album   https://api.deezer.com/album/84838432/tracks   \n",
       "3   2019-01-18       album   https://api.deezer.com/album/84838542/tracks   \n",
       "4   2019-01-18       album   https://api.deezer.com/album/85033442/tracks   \n",
       "\n",
       "   explicit_lyrics   type                                         full_title  \n",
       "0             True  album             Céline Dion — Courage (Deluxe Edition)  \n",
       "1            False  album       Céline Dion — All the Way...A Decade of Song  \n",
       "2            False  album              Céline Dion — These Are Special Times  \n",
       "3            False  album         Céline Dion — The Very Best of Celine Dion  \n",
       "4            False  album  Céline Dion — My Love Ultimate Essential Colle...  "
      ]
     },
     "execution_count": 47,
     "metadata": {},
     "output_type": "execute_result"
    }
   ],
   "source": [
    "Release_latest2.head()"
   ]
  },
  {
   "cell_type": "code",
   "execution_count": 48,
   "metadata": {},
   "outputs": [
    {
     "data": {
      "text/html": [
       "<div>\n",
       "<style scoped>\n",
       "    .dataframe tbody tr th:only-of-type {\n",
       "        vertical-align: middle;\n",
       "    }\n",
       "\n",
       "    .dataframe tbody tr th {\n",
       "        vertical-align: top;\n",
       "    }\n",
       "\n",
       "    .dataframe thead th {\n",
       "        text-align: right;\n",
       "    }\n",
       "</style>\n",
       "<table border=\"1\" class=\"dataframe\">\n",
       "  <thead>\n",
       "    <tr style=\"text-align: right;\">\n",
       "      <th></th>\n",
       "      <th>id</th>\n",
       "      <th>title</th>\n",
       "      <th>link</th>\n",
       "      <th>cover</th>\n",
       "      <th>cover_small</th>\n",
       "      <th>cover_medium</th>\n",
       "      <th>cover_big</th>\n",
       "      <th>cover_xl</th>\n",
       "      <th>genre_id</th>\n",
       "      <th>fans</th>\n",
       "      <th>release_date</th>\n",
       "      <th>record_type</th>\n",
       "      <th>tracklist</th>\n",
       "      <th>explicit_lyrics</th>\n",
       "      <th>type</th>\n",
       "      <th>full_title</th>\n",
       "    </tr>\n",
       "  </thead>\n",
       "  <tbody>\n",
       "    <tr>\n",
       "      <td>0</td>\n",
       "      <td>118255982</td>\n",
       "      <td>Courage (Deluxe Edition)</td>\n",
       "      <td>https://www.deezer.com/album/118255982</td>\n",
       "      <td>https://api.deezer.com/album/118255982/image</td>\n",
       "      <td>https://e-cdns-images.dzcdn.net/images/cover/0...</td>\n",
       "      <td>https://e-cdns-images.dzcdn.net/images/cover/0...</td>\n",
       "      <td>https://e-cdns-images.dzcdn.net/images/cover/0...</td>\n",
       "      <td>https://e-cdns-images.dzcdn.net/images/cover/0...</td>\n",
       "      <td>132</td>\n",
       "      <td>17989</td>\n",
       "      <td>2019-11-15</td>\n",
       "      <td>album</td>\n",
       "      <td>https://api.deezer.com/album/118255982/tracks</td>\n",
       "      <td>True</td>\n",
       "      <td>album</td>\n",
       "      <td>Céline Dion — Courage (Deluxe Edition)</td>\n",
       "    </tr>\n",
       "    <tr>\n",
       "      <td>1</td>\n",
       "      <td>84830532</td>\n",
       "      <td>All the Way...A Decade of Song</td>\n",
       "      <td>https://www.deezer.com/album/84830532</td>\n",
       "      <td>https://api.deezer.com/album/84830532/image</td>\n",
       "      <td>https://e-cdns-images.dzcdn.net/images/cover/9...</td>\n",
       "      <td>https://e-cdns-images.dzcdn.net/images/cover/9...</td>\n",
       "      <td>https://e-cdns-images.dzcdn.net/images/cover/9...</td>\n",
       "      <td>https://e-cdns-images.dzcdn.net/images/cover/9...</td>\n",
       "      <td>132</td>\n",
       "      <td>4745</td>\n",
       "      <td>2019-01-18</td>\n",
       "      <td>album</td>\n",
       "      <td>https://api.deezer.com/album/84830532/tracks</td>\n",
       "      <td>False</td>\n",
       "      <td>album</td>\n",
       "      <td>Céline Dion — All the Way...A Decade of Song</td>\n",
       "    </tr>\n",
       "    <tr>\n",
       "      <td>2</td>\n",
       "      <td>84838432</td>\n",
       "      <td>These Are Special Times</td>\n",
       "      <td>https://www.deezer.com/album/84838432</td>\n",
       "      <td>https://api.deezer.com/album/84838432/image</td>\n",
       "      <td>https://e-cdns-images.dzcdn.net/images/cover/a...</td>\n",
       "      <td>https://e-cdns-images.dzcdn.net/images/cover/a...</td>\n",
       "      <td>https://e-cdns-images.dzcdn.net/images/cover/a...</td>\n",
       "      <td>https://e-cdns-images.dzcdn.net/images/cover/a...</td>\n",
       "      <td>132</td>\n",
       "      <td>4819</td>\n",
       "      <td>2019-01-18</td>\n",
       "      <td>album</td>\n",
       "      <td>https://api.deezer.com/album/84838432/tracks</td>\n",
       "      <td>False</td>\n",
       "      <td>album</td>\n",
       "      <td>Céline Dion — These Are Special Times</td>\n",
       "    </tr>\n",
       "    <tr>\n",
       "      <td>3</td>\n",
       "      <td>84838542</td>\n",
       "      <td>The Very Best of Celine Dion</td>\n",
       "      <td>https://www.deezer.com/album/84838542</td>\n",
       "      <td>https://api.deezer.com/album/84838542/image</td>\n",
       "      <td>https://e-cdns-images.dzcdn.net/images/cover/0...</td>\n",
       "      <td>https://e-cdns-images.dzcdn.net/images/cover/0...</td>\n",
       "      <td>https://e-cdns-images.dzcdn.net/images/cover/0...</td>\n",
       "      <td>https://e-cdns-images.dzcdn.net/images/cover/0...</td>\n",
       "      <td>132</td>\n",
       "      <td>12934</td>\n",
       "      <td>2019-01-18</td>\n",
       "      <td>album</td>\n",
       "      <td>https://api.deezer.com/album/84838542/tracks</td>\n",
       "      <td>False</td>\n",
       "      <td>album</td>\n",
       "      <td>Céline Dion — The Very Best of Celine Dion</td>\n",
       "    </tr>\n",
       "    <tr>\n",
       "      <td>4</td>\n",
       "      <td>85033442</td>\n",
       "      <td>My Love Ultimate Essential Collection</td>\n",
       "      <td>https://www.deezer.com/album/85033442</td>\n",
       "      <td>https://api.deezer.com/album/85033442/image</td>\n",
       "      <td>https://e-cdns-images.dzcdn.net/images/cover/5...</td>\n",
       "      <td>https://e-cdns-images.dzcdn.net/images/cover/5...</td>\n",
       "      <td>https://e-cdns-images.dzcdn.net/images/cover/5...</td>\n",
       "      <td>https://e-cdns-images.dzcdn.net/images/cover/5...</td>\n",
       "      <td>132</td>\n",
       "      <td>8111</td>\n",
       "      <td>2019-01-18</td>\n",
       "      <td>album</td>\n",
       "      <td>https://api.deezer.com/album/85033442/tracks</td>\n",
       "      <td>False</td>\n",
       "      <td>album</td>\n",
       "      <td>Céline Dion — My Love Ultimate Essential Colle...</td>\n",
       "    </tr>\n",
       "  </tbody>\n",
       "</table>\n",
       "</div>"
      ],
      "text/plain": [
       "          id                                  title  \\\n",
       "0  118255982               Courage (Deluxe Edition)   \n",
       "1   84830532         All the Way...A Decade of Song   \n",
       "2   84838432                These Are Special Times   \n",
       "3   84838542           The Very Best of Celine Dion   \n",
       "4   85033442  My Love Ultimate Essential Collection   \n",
       "\n",
       "                                     link  \\\n",
       "0  https://www.deezer.com/album/118255982   \n",
       "1   https://www.deezer.com/album/84830532   \n",
       "2   https://www.deezer.com/album/84838432   \n",
       "3   https://www.deezer.com/album/84838542   \n",
       "4   https://www.deezer.com/album/85033442   \n",
       "\n",
       "                                          cover  \\\n",
       "0  https://api.deezer.com/album/118255982/image   \n",
       "1   https://api.deezer.com/album/84830532/image   \n",
       "2   https://api.deezer.com/album/84838432/image   \n",
       "3   https://api.deezer.com/album/84838542/image   \n",
       "4   https://api.deezer.com/album/85033442/image   \n",
       "\n",
       "                                         cover_small  \\\n",
       "0  https://e-cdns-images.dzcdn.net/images/cover/0...   \n",
       "1  https://e-cdns-images.dzcdn.net/images/cover/9...   \n",
       "2  https://e-cdns-images.dzcdn.net/images/cover/a...   \n",
       "3  https://e-cdns-images.dzcdn.net/images/cover/0...   \n",
       "4  https://e-cdns-images.dzcdn.net/images/cover/5...   \n",
       "\n",
       "                                        cover_medium  \\\n",
       "0  https://e-cdns-images.dzcdn.net/images/cover/0...   \n",
       "1  https://e-cdns-images.dzcdn.net/images/cover/9...   \n",
       "2  https://e-cdns-images.dzcdn.net/images/cover/a...   \n",
       "3  https://e-cdns-images.dzcdn.net/images/cover/0...   \n",
       "4  https://e-cdns-images.dzcdn.net/images/cover/5...   \n",
       "\n",
       "                                           cover_big  \\\n",
       "0  https://e-cdns-images.dzcdn.net/images/cover/0...   \n",
       "1  https://e-cdns-images.dzcdn.net/images/cover/9...   \n",
       "2  https://e-cdns-images.dzcdn.net/images/cover/a...   \n",
       "3  https://e-cdns-images.dzcdn.net/images/cover/0...   \n",
       "4  https://e-cdns-images.dzcdn.net/images/cover/5...   \n",
       "\n",
       "                                            cover_xl  genre_id   fans  \\\n",
       "0  https://e-cdns-images.dzcdn.net/images/cover/0...       132  17989   \n",
       "1  https://e-cdns-images.dzcdn.net/images/cover/9...       132   4745   \n",
       "2  https://e-cdns-images.dzcdn.net/images/cover/a...       132   4819   \n",
       "3  https://e-cdns-images.dzcdn.net/images/cover/0...       132  12934   \n",
       "4  https://e-cdns-images.dzcdn.net/images/cover/5...       132   8111   \n",
       "\n",
       "  release_date record_type                                      tracklist  \\\n",
       "0   2019-11-15       album  https://api.deezer.com/album/118255982/tracks   \n",
       "1   2019-01-18       album   https://api.deezer.com/album/84830532/tracks   \n",
       "2   2019-01-18       album   https://api.deezer.com/album/84838432/tracks   \n",
       "3   2019-01-18       album   https://api.deezer.com/album/84838542/tracks   \n",
       "4   2019-01-18       album   https://api.deezer.com/album/85033442/tracks   \n",
       "\n",
       "   explicit_lyrics   type                                         full_title  \n",
       "0             True  album             Céline Dion — Courage (Deluxe Edition)  \n",
       "1            False  album       Céline Dion — All the Way...A Decade of Song  \n",
       "2            False  album              Céline Dion — These Are Special Times  \n",
       "3            False  album         Céline Dion — The Very Best of Celine Dion  \n",
       "4            False  album  Céline Dion — My Love Ultimate Essential Colle...  "
      ]
     },
     "execution_count": 48,
     "metadata": {},
     "output_type": "execute_result"
    }
   ],
   "source": [
    "Release_latest3.head()"
   ]
  },
  {
   "cell_type": "code",
   "execution_count": 49,
   "metadata": {},
   "outputs": [
    {
     "name": "stdout",
     "output_type": "stream",
     "text": [
      "2019-04-12: Mañana Es Too Late\n",
      "2019-04-12: Roll The Dice\n",
      "2019-04-19: Contra La Pared (Dom Da Bomb Remix)\n",
      "2019-04-25: Baila Baila Baila (Remix) [feat. Farruko, Anuel Aa]\n",
      "2019-04-25: Light It Up\n",
      "2019-05-03: Contra La Pared (Rynx Remix)\n",
      "2019-05-16: Ven y Hazlo Tú\n",
      "2019-05-17: Contra La Pared (The FaNaTiX Remix)\n",
      "2019-05-17: Contra La Pared (Banx & Ranx Remix)\n",
      "2019-05-17: No Me Conoce (Remix)\n",
      "2019-05-31: Contra La Pared (Instrumental)\n",
      "2019-06-05: Haute (feat. J Balvin & Chris Brown)\n",
      "2019-06-09: Flying On My Own (Live from Las Vegas)\n",
      "2019-06-14: Rescue Me (feat. A Day To Remember)\n",
      "2019-06-17: Contra La Pared (Remixes)\n",
      "2019-06-21: One Thing Right\n",
      "2019-06-28: Flying On My Own + Dave Audé Remix\n",
      "2019-06-28: OASIS\n",
      "2019-06-28: Room to Fall\n",
      "2019-07-03: Joytime III\n",
      "2019-07-05: Goodbyes\n",
      "2019-08-09: Loco Contigo (Cedric Gervais Remix)\n",
      "2019-08-09: One Thing Right (Remixes)\n",
      "2019-08-23: Indeciso\n",
      "2019-08-30: Circles\n",
      "2019-09-06: Carry Me Away\n",
      "2019-09-06: Hollywood's Bleeding\n",
      "2019-09-13: YOSHI (prod. Strage Remix)\n",
      "2019-09-18: Imperfections\n",
      "2019-09-18: Courage\n",
      "2019-09-18: Lying Down\n",
      "2019-09-20: Memories\n",
      "2019-09-20: Pinky Ring\n",
      "2019-09-27: Flying On My Own (Dave Audé Remix)\n",
      "2019-09-27: Qué Pena\n",
      "2019-11-13: Tongue Tied\n",
      "2019-11-14: Soul (Japanese Bonus Track)\n",
      "2019-11-15: Courage (Deluxe Edition)\n",
      "2019-11-15: Blanco\n",
      "2019-12-13: Memories (Dillon Francis Remix)\n",
      "2019-12-16: Memories (Devault Remix)\n",
      "2019-12-17: One Thing Right (Remixes Pt. 2)\n",
      "2019-12-18: Memories (Cut Copy Remix)\n",
      "2019-12-27: Loco Contigo (REMIX)\n",
      "2019-12-27: Pinky Ring (Remix)\n",
      "2020-01-10: Rare\n",
      "2020-01-10: Morado\n",
      "2020-01-15: Tongue Tied - Remix EP\n",
      "2020-02-05: Medusa\n",
      "2020-02-21: Feel Me\n",
      "2020-02-25: Crusade\n",
      "2020-02-26: The Other Side (from Trolls World Tour)\n",
      "2020-02-28: Rare (Bonus Track Version)\n",
      "2020-02-28: Rare (Alexander 23 Edit)\n",
      "2020-02-28: Rojo\n",
      "2020-03-06: Rare (Live From The Village Studio)\n",
      "2020-03-10: Don't Slack (from Trolls World Tour)\n",
      "2020-03-19: Colores\n",
      "2020-04-03: Been Thru This Before\n"
     ]
    }
   ],
   "source": [
    "#sorting the releases according to the release date\n",
    "latest_releases = sorted(latest_releases1, key=lambda release: release['release_date'])\n",
    "for release in latest_releases:\n",
    "    date = release['release_date']\n",
    "    title = release['title']\n",
    "    print(f\"{date}: {title}\")"
   ]
  },
  {
   "cell_type": "markdown",
   "metadata": {},
   "source": [
    "## Section 3.2 (C)"
   ]
  },
  {
   "cell_type": "markdown",
   "metadata": {},
   "source": [
    "### Data Cleaning of Deezer Datasets"
   ]
  },
  {
   "cell_type": "code",
   "execution_count": 50,
   "metadata": {},
   "outputs": [],
   "source": [
    "#splitting the full_title into artist name and title columns in the dataframes and deleting the full title column\n",
    "Release_latest1[['Artist name',\"Title1\"]] = Release_latest1['full_title'].str.split('—', expand=True)\n",
    "del Release_latest1['full_title']"
   ]
  },
  {
   "cell_type": "code",
   "execution_count": 51,
   "metadata": {},
   "outputs": [],
   "source": [
    "Release_latest2[['Artist name',\"Title1\"]] = Release_latest2['full_title'].str.split('—', expand=True)\n",
    "del Release_latest2['full_title']"
   ]
  },
  {
   "cell_type": "code",
   "execution_count": 52,
   "metadata": {},
   "outputs": [],
   "source": [
    "Release_latest3[['Artist name',\"Title1\"]] = Release_latest3['full_title'].str.split('—', expand=True)\n",
    "del Release_latest3['full_title']"
   ]
  },
  {
   "cell_type": "code",
   "execution_count": 53,
   "metadata": {},
   "outputs": [
    {
     "data": {
      "text/html": [
       "<div>\n",
       "<style scoped>\n",
       "    .dataframe tbody tr th:only-of-type {\n",
       "        vertical-align: middle;\n",
       "    }\n",
       "\n",
       "    .dataframe tbody tr th {\n",
       "        vertical-align: top;\n",
       "    }\n",
       "\n",
       "    .dataframe thead th {\n",
       "        text-align: right;\n",
       "    }\n",
       "</style>\n",
       "<table border=\"1\" class=\"dataframe\">\n",
       "  <thead>\n",
       "    <tr style=\"text-align: right;\">\n",
       "      <th></th>\n",
       "      <th>id</th>\n",
       "      <th>title</th>\n",
       "      <th>link</th>\n",
       "      <th>cover</th>\n",
       "      <th>cover_small</th>\n",
       "      <th>cover_medium</th>\n",
       "      <th>cover_big</th>\n",
       "      <th>cover_xl</th>\n",
       "      <th>genre_id</th>\n",
       "      <th>fans</th>\n",
       "      <th>release_date</th>\n",
       "      <th>record_type</th>\n",
       "      <th>tracklist</th>\n",
       "      <th>explicit_lyrics</th>\n",
       "      <th>type</th>\n",
       "      <th>Artist name</th>\n",
       "      <th>Title1</th>\n",
       "    </tr>\n",
       "  </thead>\n",
       "  <tbody>\n",
       "    <tr>\n",
       "      <td>0</td>\n",
       "      <td>118255982</td>\n",
       "      <td>Courage (Deluxe Edition)</td>\n",
       "      <td>https://www.deezer.com/album/118255982</td>\n",
       "      <td>https://api.deezer.com/album/118255982/image</td>\n",
       "      <td>https://e-cdns-images.dzcdn.net/images/cover/0...</td>\n",
       "      <td>https://e-cdns-images.dzcdn.net/images/cover/0...</td>\n",
       "      <td>https://e-cdns-images.dzcdn.net/images/cover/0...</td>\n",
       "      <td>https://e-cdns-images.dzcdn.net/images/cover/0...</td>\n",
       "      <td>132</td>\n",
       "      <td>17989</td>\n",
       "      <td>2019-11-15</td>\n",
       "      <td>album</td>\n",
       "      <td>https://api.deezer.com/album/118255982/tracks</td>\n",
       "      <td>True</td>\n",
       "      <td>album</td>\n",
       "      <td>Céline Dion</td>\n",
       "      <td>Courage (Deluxe Edition)</td>\n",
       "    </tr>\n",
       "    <tr>\n",
       "      <td>1</td>\n",
       "      <td>125176162</td>\n",
       "      <td>Soul (Japanese Bonus Track)</td>\n",
       "      <td>https://www.deezer.com/album/125176162</td>\n",
       "      <td>https://api.deezer.com/album/125176162/image</td>\n",
       "      <td>https://e-cdns-images.dzcdn.net/images/cover/5...</td>\n",
       "      <td>https://e-cdns-images.dzcdn.net/images/cover/5...</td>\n",
       "      <td>https://e-cdns-images.dzcdn.net/images/cover/5...</td>\n",
       "      <td>https://e-cdns-images.dzcdn.net/images/cover/5...</td>\n",
       "      <td>132</td>\n",
       "      <td>152</td>\n",
       "      <td>2019-11-14</td>\n",
       "      <td>single</td>\n",
       "      <td>https://api.deezer.com/album/125176162/tracks</td>\n",
       "      <td>False</td>\n",
       "      <td>album</td>\n",
       "      <td>Céline Dion</td>\n",
       "      <td>Soul (Japanese Bonus Track)</td>\n",
       "    </tr>\n",
       "    <tr>\n",
       "      <td>2</td>\n",
       "      <td>113300682</td>\n",
       "      <td>Flying On My Own (Dave Audé Remix)</td>\n",
       "      <td>https://www.deezer.com/album/113300682</td>\n",
       "      <td>https://api.deezer.com/album/113300682/image</td>\n",
       "      <td>https://e-cdns-images.dzcdn.net/images/cover/2...</td>\n",
       "      <td>https://e-cdns-images.dzcdn.net/images/cover/2...</td>\n",
       "      <td>https://e-cdns-images.dzcdn.net/images/cover/2...</td>\n",
       "      <td>https://e-cdns-images.dzcdn.net/images/cover/2...</td>\n",
       "      <td>132</td>\n",
       "      <td>932</td>\n",
       "      <td>2019-09-27</td>\n",
       "      <td>single</td>\n",
       "      <td>https://api.deezer.com/album/113300682/tracks</td>\n",
       "      <td>False</td>\n",
       "      <td>album</td>\n",
       "      <td>Céline Dion</td>\n",
       "      <td>Flying On My Own (Dave Audé Remix)</td>\n",
       "    </tr>\n",
       "    <tr>\n",
       "      <td>3</td>\n",
       "      <td>111498922</td>\n",
       "      <td>Imperfections</td>\n",
       "      <td>https://www.deezer.com/album/111498922</td>\n",
       "      <td>https://api.deezer.com/album/111498922/image</td>\n",
       "      <td>https://e-cdns-images.dzcdn.net/images/cover/1...</td>\n",
       "      <td>https://e-cdns-images.dzcdn.net/images/cover/1...</td>\n",
       "      <td>https://e-cdns-images.dzcdn.net/images/cover/1...</td>\n",
       "      <td>https://e-cdns-images.dzcdn.net/images/cover/1...</td>\n",
       "      <td>132</td>\n",
       "      <td>3075</td>\n",
       "      <td>2019-09-18</td>\n",
       "      <td>single</td>\n",
       "      <td>https://api.deezer.com/album/111498922/tracks</td>\n",
       "      <td>False</td>\n",
       "      <td>album</td>\n",
       "      <td>Céline Dion</td>\n",
       "      <td>Imperfections</td>\n",
       "    </tr>\n",
       "    <tr>\n",
       "      <td>4</td>\n",
       "      <td>111498942</td>\n",
       "      <td>Courage</td>\n",
       "      <td>https://www.deezer.com/album/111498942</td>\n",
       "      <td>https://api.deezer.com/album/111498942/image</td>\n",
       "      <td>https://e-cdns-images.dzcdn.net/images/cover/1...</td>\n",
       "      <td>https://e-cdns-images.dzcdn.net/images/cover/1...</td>\n",
       "      <td>https://e-cdns-images.dzcdn.net/images/cover/1...</td>\n",
       "      <td>https://e-cdns-images.dzcdn.net/images/cover/1...</td>\n",
       "      <td>132</td>\n",
       "      <td>3810</td>\n",
       "      <td>2019-09-18</td>\n",
       "      <td>single</td>\n",
       "      <td>https://api.deezer.com/album/111498942/tracks</td>\n",
       "      <td>False</td>\n",
       "      <td>album</td>\n",
       "      <td>Céline Dion</td>\n",
       "      <td>Courage</td>\n",
       "    </tr>\n",
       "  </tbody>\n",
       "</table>\n",
       "</div>"
      ],
      "text/plain": [
       "          id                               title  \\\n",
       "0  118255982            Courage (Deluxe Edition)   \n",
       "1  125176162         Soul (Japanese Bonus Track)   \n",
       "2  113300682  Flying On My Own (Dave Audé Remix)   \n",
       "3  111498922                       Imperfections   \n",
       "4  111498942                             Courage   \n",
       "\n",
       "                                     link  \\\n",
       "0  https://www.deezer.com/album/118255982   \n",
       "1  https://www.deezer.com/album/125176162   \n",
       "2  https://www.deezer.com/album/113300682   \n",
       "3  https://www.deezer.com/album/111498922   \n",
       "4  https://www.deezer.com/album/111498942   \n",
       "\n",
       "                                          cover  \\\n",
       "0  https://api.deezer.com/album/118255982/image   \n",
       "1  https://api.deezer.com/album/125176162/image   \n",
       "2  https://api.deezer.com/album/113300682/image   \n",
       "3  https://api.deezer.com/album/111498922/image   \n",
       "4  https://api.deezer.com/album/111498942/image   \n",
       "\n",
       "                                         cover_small  \\\n",
       "0  https://e-cdns-images.dzcdn.net/images/cover/0...   \n",
       "1  https://e-cdns-images.dzcdn.net/images/cover/5...   \n",
       "2  https://e-cdns-images.dzcdn.net/images/cover/2...   \n",
       "3  https://e-cdns-images.dzcdn.net/images/cover/1...   \n",
       "4  https://e-cdns-images.dzcdn.net/images/cover/1...   \n",
       "\n",
       "                                        cover_medium  \\\n",
       "0  https://e-cdns-images.dzcdn.net/images/cover/0...   \n",
       "1  https://e-cdns-images.dzcdn.net/images/cover/5...   \n",
       "2  https://e-cdns-images.dzcdn.net/images/cover/2...   \n",
       "3  https://e-cdns-images.dzcdn.net/images/cover/1...   \n",
       "4  https://e-cdns-images.dzcdn.net/images/cover/1...   \n",
       "\n",
       "                                           cover_big  \\\n",
       "0  https://e-cdns-images.dzcdn.net/images/cover/0...   \n",
       "1  https://e-cdns-images.dzcdn.net/images/cover/5...   \n",
       "2  https://e-cdns-images.dzcdn.net/images/cover/2...   \n",
       "3  https://e-cdns-images.dzcdn.net/images/cover/1...   \n",
       "4  https://e-cdns-images.dzcdn.net/images/cover/1...   \n",
       "\n",
       "                                            cover_xl  genre_id   fans  \\\n",
       "0  https://e-cdns-images.dzcdn.net/images/cover/0...       132  17989   \n",
       "1  https://e-cdns-images.dzcdn.net/images/cover/5...       132    152   \n",
       "2  https://e-cdns-images.dzcdn.net/images/cover/2...       132    932   \n",
       "3  https://e-cdns-images.dzcdn.net/images/cover/1...       132   3075   \n",
       "4  https://e-cdns-images.dzcdn.net/images/cover/1...       132   3810   \n",
       "\n",
       "  release_date record_type                                      tracklist  \\\n",
       "0   2019-11-15       album  https://api.deezer.com/album/118255982/tracks   \n",
       "1   2019-11-14      single  https://api.deezer.com/album/125176162/tracks   \n",
       "2   2019-09-27      single  https://api.deezer.com/album/113300682/tracks   \n",
       "3   2019-09-18      single  https://api.deezer.com/album/111498922/tracks   \n",
       "4   2019-09-18      single  https://api.deezer.com/album/111498942/tracks   \n",
       "\n",
       "   explicit_lyrics   type   Artist name                               Title1  \n",
       "0             True  album  Céline Dion              Courage (Deluxe Edition)  \n",
       "1            False  album  Céline Dion           Soul (Japanese Bonus Track)  \n",
       "2            False  album  Céline Dion    Flying On My Own (Dave Audé Remix)  \n",
       "3            False  album  Céline Dion                         Imperfections  \n",
       "4            False  album  Céline Dion                               Courage  "
      ]
     },
     "execution_count": 53,
     "metadata": {},
     "output_type": "execute_result"
    }
   ],
   "source": [
    "Release_latest1.head()"
   ]
  },
  {
   "cell_type": "code",
   "execution_count": 54,
   "metadata": {},
   "outputs": [
    {
     "data": {
      "text/plain": [
       "44     Post Malone \n",
       "21        J Balvin \n",
       "20        J Balvin \n",
       "15    Selena Gomez \n",
       "38        J Balvin \n",
       "46     Post Malone \n",
       "14        Maroon 5 \n",
       "0      Céline Dion \n",
       "49      Marshmello \n",
       "41        J Balvin \n",
       "Name: Artist name, dtype: object"
      ]
     },
     "execution_count": 54,
     "metadata": {},
     "output_type": "execute_result"
    }
   ],
   "source": [
    "#Top artists according to the popularity(fans)\n",
    "\n",
    "R1=Release_latest1.sort_values(by ='fans',ascending=False )\n",
    "R1[\"Artist name\"].head(10)"
   ]
  },
  {
   "cell_type": "markdown",
   "metadata": {},
   "source": [
    "# Section 4"
   ]
  },
  {
   "cell_type": "markdown",
   "metadata": {},
   "source": [
    "## Analysis and Visualizations based on comparison between Spotify & Deezer"
   ]
  },
  {
   "cell_type": "code",
   "execution_count": 55,
   "metadata": {},
   "outputs": [
    {
     "data": {
      "text/html": [
       "<img src=\"https://www.audfree.com/images/resource/deezer-vs-spotify.jpg\" width=\"1000\"/>"
      ],
      "text/plain": [
       "<IPython.core.display.Image object>"
      ]
     },
     "execution_count": 55,
     "metadata": {},
     "output_type": "execute_result"
    }
   ],
   "source": [
    "im(url = \"https://www.audfree.com/images/resource/deezer-vs-spotify.jpg\", width = 1000)"
   ]
  },
  {
   "cell_type": "markdown",
   "metadata": {},
   "source": [
    "## Section 4.1"
   ]
  },
  {
   "cell_type": "markdown",
   "metadata": {},
   "source": [
    "### Analysis : The Top 5 popular tracks on Spotify for year 2018 VS year 2019"
   ]
  },
  {
   "cell_type": "code",
   "execution_count": 56,
   "metadata": {},
   "outputs": [
    {
     "data": {
      "image/png": "[encoded data removed]",
      "text/plain": [
       "<Figure size 432x288 with 1 Axes>"
      ]
     },
     "metadata": {
      "needs_background": "light"
     },
     "output_type": "display_data"
    },
    {
     "data": {
      "image/png": "[encoded data removed]",
      "text/plain": [
       "<Figure size 432x288 with 1 Axes>"
      ]
     },
     "metadata": {
      "needs_background": "light"
     },
     "output_type": "display_data"
    }
   ],
   "source": [
    "#Popular tracks for 2018 vs 2019\n",
    "R1.head().plot(kind='bar',x=\"title\",y='fans', color='orange')\n",
    "plt.title('Popular tracks Spotify 2018')\n",
    "plt.show()\n",
    "df1.head().groupby('track_name')['popularity'].nunique().plot(kind='bar', color='lightskyblue')\n",
    "plt.title('Popular tracks Spotify 2019')\n",
    "plt.show()"
   ]
  },
  {
   "cell_type": "markdown",
   "metadata": {},
   "source": [
    "NOTE: The scaling for spotify popularity is different than Deezer. "
   ]
  },
  {
   "cell_type": "markdown",
   "metadata": {},
   "source": [
    "## Section 4.2"
   ]
  },
  {
   "cell_type": "markdown",
   "metadata": {},
   "source": [
    "### ANALYSIS : Compare songs on Spotify based on various parameters like energy, instrumentalness "
   ]
  },
  {
   "cell_type": "code",
   "execution_count": 57,
   "metadata": {},
   "outputs": [
    {
     "data": {
      "text/plain": [
       "Text(0.5, 1.0, 'Comparing songs on various parameters')"
      ]
     },
     "execution_count": 57,
     "metadata": {},
     "output_type": "execute_result"
    },
    {
     "data": {
      "image/png": "[encoded data removed]",
      "text/plain": [
       "<Figure size 800x600 with 1 Axes>"
      ]
     },
     "metadata": {
      "needs_background": "light"
     },
     "output_type": "display_data"
    }
   ],
   "source": [
    "w = 8\n",
    "h = 6\n",
    "d = 100\n",
    "dance_df = df.sort_values(by='danceability', ascending=False)\n",
    "plt.figure(figsize=(w, h), dpi=d)\n",
    "x1 = dance_df[\"track_name\"].head(10)\n",
    "y1 = dance_df[\"speechiness\"].head(10)\n",
    "plt.plot(x1, y1,label=\"speechiness\")\n",
    "plt.ylim(0, 1.0)\n",
    "plt.legend()\n",
    "\n",
    "x2 = dance_df[\"track_name\"].head(10)\n",
    "y2 = dance_df[\"energy\"].head(10)\n",
    "plt.plot(x2, y2,label=\"energy\")\n",
    "plt.legend()\n",
    "\n",
    "x3 = dance_df[\"track_name\"].head(10)\n",
    "y3 = dance_df[\"liveness\"].head(10)\n",
    "plt.plot(x3, y3,label=\"Liveness\")\n",
    "plt.legend()\n",
    "plt.xticks(rotation='vertical')\n",
    "plt.title(\"Comparing songs on various parameters\")"
   ]
  },
  {
   "cell_type": "markdown",
   "metadata": {},
   "source": [
    "The above plot shows that their is an opposite relationship between the energy and speechiness. Suggesting that songs with high energy parameter are likely to have a low speechiness or word clarity factor. "
   ]
  },
  {
   "cell_type": "markdown",
   "metadata": {},
   "source": [
    "## Section 4.3"
   ]
  },
  {
   "cell_type": "markdown",
   "metadata": {},
   "source": [
    "### ANALYSIS: Which parameters affect the popularity of the songs on the online music platforms?"
   ]
  },
  {
   "cell_type": "code",
   "execution_count": 58,
   "metadata": {},
   "outputs": [
    {
     "data": {
      "text/plain": [
       "<matplotlib.legend.Legend at 0x1ffb4a2d108>"
      ]
     },
     "execution_count": 58,
     "metadata": {},
     "output_type": "execute_result"
    },
    {
     "data": {
      "image/png": "[encoded data removed]",
      "text/plain": [
       "<Figure size 432x288 with 1 Axes>"
      ]
     },
     "metadata": {
      "needs_background": "light"
     },
     "output_type": "display_data"
    }
   ],
   "source": [
    "# Visualize distribution of a parameter-energy \n",
    "df['energy'].plot(kind='hist', color='orange')\n",
    "plt.xlabel('energy')\n",
    "plt.legend()"
   ]
  },
  {
   "cell_type": "code",
   "execution_count": 59,
   "metadata": {},
   "outputs": [
    {
     "data": {
      "image/png": "[encoded data removed]",
      "text/plain": [
       "<Figure size 432x288 with 1 Axes>"
      ]
     },
     "metadata": {
      "needs_background": "light"
     },
     "output_type": "display_data"
    }
   ],
   "source": [
    "# Visualize relationship between danceability and popularity\n",
    "plt.plot(df['danceability'], df['popularity'], 'k.', alpha=0.05)\n",
    "plt.xlabel('danceability')\n",
    "plt.ylabel('popularity')\n",
    "plt.title('Correlation = %.4f' % df['danceability'].corr(df['popularity']));"
   ]
  },
  {
   "cell_type": "code",
   "execution_count": 60,
   "metadata": {},
   "outputs": [
    {
     "data": {
      "image/png": "[encoded data removed]",
      "text/plain": [
       "<Figure size 432x288 with 1 Axes>"
      ]
     },
     "metadata": {
      "needs_background": "light"
     },
     "output_type": "display_data"
    }
   ],
   "source": [
    "# Visualize relationship between danceability and popularity\n",
    "plt.plot(df['energy'], df['popularity'], 'k.', alpha=0.05)\n",
    "plt.xlabel('energy')\n",
    "plt.ylabel('popularity')\n",
    "plt.title('Correlation = %.4f' % df['energy'].corr(df['popularity']));"
   ]
  },
  {
   "cell_type": "markdown",
   "metadata": {},
   "source": [
    "As energy and popularity has the highest correlation with popularity as compared to other parameters. Lets perform linear regression to check and validate the same."
   ]
  },
  {
   "cell_type": "markdown",
   "metadata": {},
   "source": [
    "## Section 4.4"
   ]
  },
  {
   "cell_type": "markdown",
   "metadata": {},
   "source": [
    "### Execution of Linear Regression "
   ]
  },
  {
   "cell_type": "code",
   "execution_count": 61,
   "metadata": {},
   "outputs": [
    {
     "data": {
      "text/html": [
       "<table class=\"simpletable\">\n",
       "<caption>OLS Regression Results</caption>\n",
       "<tr>\n",
       "  <th>Dep. Variable:</th>       <td>popularity</td>    <th>  R-squared (uncentered):</th>      <td>   0.963</td> \n",
       "</tr>\n",
       "<tr>\n",
       "  <th>Model:</th>                   <td>OLS</td>       <th>  Adj. R-squared (uncentered):</th> <td>   0.963</td> \n",
       "</tr>\n",
       "<tr>\n",
       "  <th>Method:</th>             <td>Least Squares</td>  <th>  F-statistic:       </th>          <td>1.288e+04</td>\n",
       "</tr>\n",
       "<tr>\n",
       "  <th>Date:</th>             <td>Sun, 05 Apr 2020</td> <th>  Prob (F-statistic):</th>           <td>  0.00</td>  \n",
       "</tr>\n",
       "<tr>\n",
       "  <th>Time:</th>                 <td>21:12:55</td>     <th>  Log-Likelihood:    </th>          <td> -3958.8</td> \n",
       "</tr>\n",
       "<tr>\n",
       "  <th>No. Observations:</th>      <td>   981</td>      <th>  AIC:               </th>          <td>   7922.</td> \n",
       "</tr>\n",
       "<tr>\n",
       "  <th>Df Residuals:</th>          <td>   979</td>      <th>  BIC:               </th>          <td>   7931.</td> \n",
       "</tr>\n",
       "<tr>\n",
       "  <th>Df Model:</th>              <td>     2</td>      <th>                     </th>              <td> </td>    \n",
       "</tr>\n",
       "<tr>\n",
       "  <th>Covariance Type:</th>      <td>nonrobust</td>    <th>                     </th>              <td> </td>    \n",
       "</tr>\n",
       "</table>\n",
       "<table class=\"simpletable\">\n",
       "<tr>\n",
       "        <td></td>          <th>coef</th>     <th>std err</th>      <th>t</th>      <th>P>|t|</th>  <th>[0.025</th>    <th>0.975]</th>  \n",
       "</tr>\n",
       "<tr>\n",
       "  <th>energy</th>       <td>   40.2137</td> <td>    2.004</td> <td>   20.064</td> <td> 0.000</td> <td>   36.280</td> <td>   44.147</td>\n",
       "</tr>\n",
       "<tr>\n",
       "  <th>danceability</th> <td>   67.4752</td> <td>    1.775</td> <td>   38.020</td> <td> 0.000</td> <td>   63.993</td> <td>   70.958</td>\n",
       "</tr>\n",
       "</table>\n",
       "<table class=\"simpletable\">\n",
       "<tr>\n",
       "  <th>Omnibus:</th>       <td>183.195</td> <th>  Durbin-Watson:     </th> <td>   1.730</td>\n",
       "</tr>\n",
       "<tr>\n",
       "  <th>Prob(Omnibus):</th> <td> 0.000</td>  <th>  Jarque-Bera (JB):  </th> <td> 397.956</td>\n",
       "</tr>\n",
       "<tr>\n",
       "  <th>Skew:</th>          <td> 1.041</td>  <th>  Prob(JB):          </th> <td>3.85e-87</td>\n",
       "</tr>\n",
       "<tr>\n",
       "  <th>Kurtosis:</th>      <td> 5.325</td>  <th>  Cond. No.          </th> <td>    5.47</td>\n",
       "</tr>\n",
       "</table><br/><br/>Warnings:<br/>[1] Standard Errors assume that the covariance matrix of the errors is correctly specified."
      ],
      "text/plain": [
       "<class 'statsmodels.iolib.summary.Summary'>\n",
       "\"\"\"\n",
       "                                 OLS Regression Results                                \n",
       "=======================================================================================\n",
       "Dep. Variable:             popularity   R-squared (uncentered):                   0.963\n",
       "Model:                            OLS   Adj. R-squared (uncentered):              0.963\n",
       "Method:                 Least Squares   F-statistic:                          1.288e+04\n",
       "Date:                Sun, 05 Apr 2020   Prob (F-statistic):                        0.00\n",
       "Time:                        21:12:55   Log-Likelihood:                         -3958.8\n",
       "No. Observations:                 981   AIC:                                      7922.\n",
       "Df Residuals:                     979   BIC:                                      7931.\n",
       "Df Model:                           2                                                  \n",
       "Covariance Type:            nonrobust                                                  \n",
       "================================================================================\n",
       "                   coef    std err          t      P>|t|      [0.025      0.975]\n",
       "--------------------------------------------------------------------------------\n",
       "energy          40.2137      2.004     20.064      0.000      36.280      44.147\n",
       "danceability    67.4752      1.775     38.020      0.000      63.993      70.958\n",
       "==============================================================================\n",
       "Omnibus:                      183.195   Durbin-Watson:                   1.730\n",
       "Prob(Omnibus):                  0.000   Jarque-Bera (JB):              397.956\n",
       "Skew:                           1.041   Prob(JB):                     3.85e-87\n",
       "Kurtosis:                       5.325   Cond. No.                         5.47\n",
       "==============================================================================\n",
       "\n",
       "Warnings:\n",
       "[1] Standard Errors assume that the covariance matrix of the errors is correctly specified.\n",
       "\"\"\""
      ]
     },
     "execution_count": 61,
     "metadata": {},
     "output_type": "execute_result"
    }
   ],
   "source": [
    "X = df[['energy', 'danceability']]\n",
    "y = df['popularity']\n",
    "model = sm.OLS(endog=y, exog=X).fit()\n",
    "predictions = model.predict(X)\n",
    "model.summary()"
   ]
  },
  {
   "cell_type": "code",
   "execution_count": 62,
   "metadata": {},
   "outputs": [
    {
     "data": {
      "text/plain": [
       "Text(0, 0.5, 'Residuals')"
      ]
     },
     "execution_count": 62,
     "metadata": {},
     "output_type": "execute_result"
    },
    {
     "data": {
      "image/png": "[encoded data removed]",
      "text/plain": [
       "<Figure size 576x576 with 1 Axes>"
      ]
     },
     "metadata": {
      "needs_background": "light"
     },
     "output_type": "display_data"
    }
   ],
   "source": [
    "plt.figure(figsize=(8,8))\n",
    "plt.plot(model.fittedvalues, model.resid, 'k.')\n",
    "plt.xlabel('Fitted Values')\n",
    "plt.ylabel('Residuals')"
   ]
  },
  {
   "cell_type": "markdown",
   "metadata": {},
   "source": [
    "From the above analysis, it shows that higher values of energy and danceability parameters of the songs result in higher popularity as compared to other tracks. In the above regression analysis, the R-square is extremely high, which ensures that the model fits well.\n",
    "The residuals v/s fitted values graph is also more linear now. This shows that the variance between the errors and fitted values has reduced. Furthermore, the heteroscedasticity has reduced too. Hence, our regression model is suitable."
   ]
  },
  {
   "cell_type": "markdown",
   "metadata": {},
   "source": [
    "## Section 4.5"
   ]
  },
  {
   "cell_type": "markdown",
   "metadata": {},
   "source": [
    "### ANALYSIS  : Among the top-5 artists from 2018 which artist has the highest increase in popularity in 2019 as compared to 2018?"
   ]
  },
  {
   "cell_type": "code",
   "execution_count": 63,
   "metadata": {},
   "outputs": [
    {
     "data": {
      "text/html": [
       "<div>\n",
       "<style scoped>\n",
       "    .dataframe tbody tr th:only-of-type {\n",
       "        vertical-align: middle;\n",
       "    }\n",
       "\n",
       "    .dataframe tbody tr th {\n",
       "        vertical-align: top;\n",
       "    }\n",
       "\n",
       "    .dataframe thead th {\n",
       "        text-align: right;\n",
       "    }\n",
       "</style>\n",
       "<table border=\"1\" class=\"dataframe\">\n",
       "  <thead>\n",
       "    <tr style=\"text-align: right;\">\n",
       "      <th></th>\n",
       "      <th>artist_name</th>\n",
       "      <th>track_name</th>\n",
       "      <th>track_id</th>\n",
       "      <th>popularity</th>\n",
       "      <th>danceability</th>\n",
       "      <th>energy</th>\n",
       "      <th>key</th>\n",
       "      <th>loudness</th>\n",
       "      <th>mode</th>\n",
       "      <th>speechiness</th>\n",
       "      <th>acousticness</th>\n",
       "      <th>instrumentalness</th>\n",
       "      <th>liveness</th>\n",
       "      <th>valence</th>\n",
       "      <th>tempo</th>\n",
       "      <th>duration_ms</th>\n",
       "      <th>time_signature</th>\n",
       "    </tr>\n",
       "  </thead>\n",
       "  <tbody>\n",
       "    <tr>\n",
       "      <td>0</td>\n",
       "      <td>Trevor Daniel</td>\n",
       "      <td>Falling</td>\n",
       "      <td>4TnjEaWOeW0eKTKIEvJyCa</td>\n",
       "      <td>96</td>\n",
       "      <td>0.784</td>\n",
       "      <td>0.430</td>\n",
       "      <td>10</td>\n",
       "      <td>-8.756</td>\n",
       "      <td>0</td>\n",
       "      <td>0.0364</td>\n",
       "      <td>0.123</td>\n",
       "      <td>0.00000</td>\n",
       "      <td>0.0887</td>\n",
       "      <td>0.2360</td>\n",
       "      <td>127.087</td>\n",
       "      <td>159382</td>\n",
       "      <td>4</td>\n",
       "    </tr>\n",
       "    <tr>\n",
       "      <td>3</td>\n",
       "      <td>Billie Eilish</td>\n",
       "      <td>lovely (with Khalid)</td>\n",
       "      <td>0u2P5u6lvoDfwTYjAADbn4</td>\n",
       "      <td>90</td>\n",
       "      <td>0.351</td>\n",
       "      <td>0.296</td>\n",
       "      <td>4</td>\n",
       "      <td>-10.109</td>\n",
       "      <td>0</td>\n",
       "      <td>0.0333</td>\n",
       "      <td>0.934</td>\n",
       "      <td>0.00000</td>\n",
       "      <td>0.0950</td>\n",
       "      <td>0.1200</td>\n",
       "      <td>115.284</td>\n",
       "      <td>200186</td>\n",
       "      <td>4</td>\n",
       "    </tr>\n",
       "    <tr>\n",
       "      <td>1</td>\n",
       "      <td>Juice WRLD</td>\n",
       "      <td>Lucid Dreams</td>\n",
       "      <td>285pBltuF7vW8TeWk8hdRR</td>\n",
       "      <td>89</td>\n",
       "      <td>0.511</td>\n",
       "      <td>0.566</td>\n",
       "      <td>6</td>\n",
       "      <td>-7.230</td>\n",
       "      <td>0</td>\n",
       "      <td>0.2000</td>\n",
       "      <td>0.349</td>\n",
       "      <td>0.00000</td>\n",
       "      <td>0.3400</td>\n",
       "      <td>0.2180</td>\n",
       "      <td>83.903</td>\n",
       "      <td>239836</td>\n",
       "      <td>4</td>\n",
       "    </tr>\n",
       "    <tr>\n",
       "      <td>11</td>\n",
       "      <td>Post Malone</td>\n",
       "      <td>rockstar (feat. 21 Savage)</td>\n",
       "      <td>0e7ipj03S05BNilyu5bRzt</td>\n",
       "      <td>87</td>\n",
       "      <td>0.585</td>\n",
       "      <td>0.520</td>\n",
       "      <td>5</td>\n",
       "      <td>-6.136</td>\n",
       "      <td>0</td>\n",
       "      <td>0.0712</td>\n",
       "      <td>0.124</td>\n",
       "      <td>0.00007</td>\n",
       "      <td>0.1310</td>\n",
       "      <td>0.1290</td>\n",
       "      <td>159.801</td>\n",
       "      <td>218147</td>\n",
       "      <td>4</td>\n",
       "    </tr>\n",
       "    <tr>\n",
       "      <td>27</td>\n",
       "      <td>Kina</td>\n",
       "      <td>Get You The Moon (feat. Snøw)</td>\n",
       "      <td>4ZLzoOkj0MPWrTLvooIuaa</td>\n",
       "      <td>87</td>\n",
       "      <td>0.498</td>\n",
       "      <td>0.235</td>\n",
       "      <td>1</td>\n",
       "      <td>-16.541</td>\n",
       "      <td>0</td>\n",
       "      <td>0.1880</td>\n",
       "      <td>0.720</td>\n",
       "      <td>0.00000</td>\n",
       "      <td>0.1440</td>\n",
       "      <td>0.0895</td>\n",
       "      <td>118.917</td>\n",
       "      <td>179080</td>\n",
       "      <td>4</td>\n",
       "    </tr>\n",
       "  </tbody>\n",
       "</table>\n",
       "</div>"
      ],
      "text/plain": [
       "      artist_name                     track_name                track_id  \\\n",
       "0   Trevor Daniel                        Falling  4TnjEaWOeW0eKTKIEvJyCa   \n",
       "3   Billie Eilish           lovely (with Khalid)  0u2P5u6lvoDfwTYjAADbn4   \n",
       "1      Juice WRLD                   Lucid Dreams  285pBltuF7vW8TeWk8hdRR   \n",
       "11    Post Malone     rockstar (feat. 21 Savage)  0e7ipj03S05BNilyu5bRzt   \n",
       "27           Kina  Get You The Moon (feat. Snøw)  4ZLzoOkj0MPWrTLvooIuaa   \n",
       "\n",
       "    popularity  danceability  energy  key  loudness  mode  speechiness  \\\n",
       "0           96         0.784   0.430   10    -8.756     0       0.0364   \n",
       "3           90         0.351   0.296    4   -10.109     0       0.0333   \n",
       "1           89         0.511   0.566    6    -7.230     0       0.2000   \n",
       "11          87         0.585   0.520    5    -6.136     0       0.0712   \n",
       "27          87         0.498   0.235    1   -16.541     0       0.1880   \n",
       "\n",
       "    acousticness  instrumentalness  liveness  valence    tempo  duration_ms  \\\n",
       "0          0.123           0.00000    0.0887   0.2360  127.087       159382   \n",
       "3          0.934           0.00000    0.0950   0.1200  115.284       200186   \n",
       "1          0.349           0.00000    0.3400   0.2180   83.903       239836   \n",
       "11         0.124           0.00007    0.1310   0.1290  159.801       218147   \n",
       "27         0.720           0.00000    0.1440   0.0895  118.917       179080   \n",
       "\n",
       "    time_signature  \n",
       "0                4  \n",
       "3                4  \n",
       "1                4  \n",
       "11               4  \n",
       "27               4  "
      ]
     },
     "execution_count": 63,
     "metadata": {},
     "output_type": "execute_result"
    }
   ],
   "source": [
    "df_top = df.sort_values('popularity', ascending=False).head(100)\n",
    "df_top.head()"
   ]
  },
  {
   "cell_type": "code",
   "execution_count": 64,
   "metadata": {},
   "outputs": [],
   "source": [
    "pop_18_songs = df_top[['artist_name','track_name']].groupby('artist_name').count().rename(columns={'track_name':'no_of_songs'}).sort_values('no_of_songs', ascending=False)"
   ]
  },
  {
   "cell_type": "code",
   "execution_count": 65,
   "metadata": {},
   "outputs": [
    {
     "data": {
      "text/html": [
       "<div>\n",
       "<style scoped>\n",
       "    .dataframe tbody tr th:only-of-type {\n",
       "        vertical-align: middle;\n",
       "    }\n",
       "\n",
       "    .dataframe tbody tr th {\n",
       "        vertical-align: top;\n",
       "    }\n",
       "\n",
       "    .dataframe thead th {\n",
       "        text-align: right;\n",
       "    }\n",
       "</style>\n",
       "<table border=\"1\" class=\"dataframe\">\n",
       "  <thead>\n",
       "    <tr style=\"text-align: right;\">\n",
       "      <th></th>\n",
       "      <th>no_of_songs</th>\n",
       "    </tr>\n",
       "    <tr>\n",
       "      <th>artist_name</th>\n",
       "      <th></th>\n",
       "    </tr>\n",
       "  </thead>\n",
       "  <tbody>\n",
       "    <tr>\n",
       "      <td>Post Malone</td>\n",
       "      <td>5</td>\n",
       "    </tr>\n",
       "    <tr>\n",
       "      <td>XXXTENTACION</td>\n",
       "      <td>5</td>\n",
       "    </tr>\n",
       "    <tr>\n",
       "      <td>Juice WRLD</td>\n",
       "      <td>5</td>\n",
       "    </tr>\n",
       "    <tr>\n",
       "      <td>Drake</td>\n",
       "      <td>4</td>\n",
       "    </tr>\n",
       "    <tr>\n",
       "      <td>Bazzi</td>\n",
       "      <td>2</td>\n",
       "    </tr>\n",
       "  </tbody>\n",
       "</table>\n",
       "</div>"
      ],
      "text/plain": [
       "              no_of_songs\n",
       "artist_name              \n",
       "Post Malone             5\n",
       "XXXTENTACION            5\n",
       "Juice WRLD              5\n",
       "Drake                   4\n",
       "Bazzi                   2"
      ]
     },
     "execution_count": 65,
     "metadata": {},
     "output_type": "execute_result"
    }
   ],
   "source": [
    "pop_18_songs.head()"
   ]
  },
  {
   "cell_type": "code",
   "execution_count": 66,
   "metadata": {},
   "outputs": [],
   "source": [
    "pop_18 = df_top[['artist_name','popularity']].groupby('artist_name').sum().sort_values('popularity', ascending=False)"
   ]
  },
  {
   "cell_type": "code",
   "execution_count": 67,
   "metadata": {},
   "outputs": [],
   "source": [
    "df_top1 = df1.sort_values('popularity', ascending=False).head(100)"
   ]
  },
  {
   "cell_type": "code",
   "execution_count": 68,
   "metadata": {},
   "outputs": [],
   "source": [
    "pop_19_songs = df_top1[['artist_name','track_name']].groupby('artist_name').count().rename(columns= {'track_name':'no_of_songs'}).sort_values('no_of_songs', ascending=False)"
   ]
  },
  {
   "cell_type": "code",
   "execution_count": 69,
   "metadata": {},
   "outputs": [],
   "source": [
    "pop_19 = df_top1[['artist_name','popularity']].groupby('artist_name').sum().sort_values('popularity', ascending=False)"
   ]
  },
  {
   "cell_type": "code",
   "execution_count": 70,
   "metadata": {},
   "outputs": [],
   "source": [
    "df_top2 = df2.sort_values('popularity', ascending=False).head(100)"
   ]
  },
  {
   "cell_type": "code",
   "execution_count": 71,
   "metadata": {},
   "outputs": [],
   "source": [
    "pop_17_songs = df_top2[['artist_name','track_name']].groupby('artist_name').count().rename(columns={'track_name':'no_of_songs'}).sort_values('no_of_songs', ascending=False)"
   ]
  },
  {
   "cell_type": "code",
   "execution_count": 72,
   "metadata": {},
   "outputs": [],
   "source": [
    "pop_17 = df_top2[['artist_name','popularity']].groupby('artist_name').sum().sort_values('popularity', ascending=False)"
   ]
  },
  {
   "cell_type": "code",
   "execution_count": 73,
   "metadata": {},
   "outputs": [],
   "source": [
    "pop_18 = pop_18.reset_index()"
   ]
  },
  {
   "cell_type": "code",
   "execution_count": 74,
   "metadata": {},
   "outputs": [],
   "source": [
    "pop_19 = pop_19.reset_index()"
   ]
  },
  {
   "cell_type": "code",
   "execution_count": 75,
   "metadata": {},
   "outputs": [
    {
     "data": {
      "text/html": [
       "<div>\n",
       "<style scoped>\n",
       "    .dataframe tbody tr th:only-of-type {\n",
       "        vertical-align: middle;\n",
       "    }\n",
       "\n",
       "    .dataframe tbody tr th {\n",
       "        vertical-align: top;\n",
       "    }\n",
       "\n",
       "    .dataframe thead th {\n",
       "        text-align: right;\n",
       "    }\n",
       "</style>\n",
       "<table border=\"1\" class=\"dataframe\">\n",
       "  <thead>\n",
       "    <tr style=\"text-align: right;\">\n",
       "      <th></th>\n",
       "      <th>artist_name</th>\n",
       "      <th>popularity</th>\n",
       "    </tr>\n",
       "  </thead>\n",
       "  <tbody>\n",
       "    <tr>\n",
       "      <td>0</td>\n",
       "      <td>Billie Eilish</td>\n",
       "      <td>530</td>\n",
       "    </tr>\n",
       "    <tr>\n",
       "      <td>1</td>\n",
       "      <td>Post Malone</td>\n",
       "      <td>351</td>\n",
       "    </tr>\n",
       "    <tr>\n",
       "      <td>2</td>\n",
       "      <td>Harry Styles</td>\n",
       "      <td>346</td>\n",
       "    </tr>\n",
       "    <tr>\n",
       "      <td>3</td>\n",
       "      <td>Lewis Capaldi</td>\n",
       "      <td>268</td>\n",
       "    </tr>\n",
       "    <tr>\n",
       "      <td>4</td>\n",
       "      <td>DaBaby</td>\n",
       "      <td>259</td>\n",
       "    </tr>\n",
       "  </tbody>\n",
       "</table>\n",
       "</div>"
      ],
      "text/plain": [
       "     artist_name  popularity\n",
       "0  Billie Eilish         530\n",
       "1    Post Malone         351\n",
       "2   Harry Styles         346\n",
       "3  Lewis Capaldi         268\n",
       "4         DaBaby         259"
      ]
     },
     "execution_count": 75,
     "metadata": {},
     "output_type": "execute_result"
    }
   ],
   "source": [
    "pop_19.head()"
   ]
  },
  {
   "cell_type": "code",
   "execution_count": 76,
   "metadata": {},
   "outputs": [
    {
     "name": "stdout",
     "output_type": "stream",
     "text": [
      "Post Malone\n",
      "Travis Scott\n",
      "Drake\n"
     ]
    }
   ],
   "source": [
    "x={}\n",
    "new_list = ['Post Malone','XXXTENTACION','Travis Scott','Drake']\n",
    "for u in range(len((new_list))):\n",
    "    y=0\n",
    "#appending the popularity of artists for the year 2019 in the dictionary\n",
    "    for i in range(len((pop_19))):\n",
    "        if(pop_19['artist_name'][i] == new_list[u]):\n",
    "            print(pop_19['artist_name'][i])\n",
    "            y=pop_19['popularity'][i]\n",
    "            x.update({pop_19['artist_name'][i]:y})"
   ]
  },
  {
   "cell_type": "code",
   "execution_count": 77,
   "metadata": {},
   "outputs": [
    {
     "data": {
      "text/plain": [
       "{'Post Malone': 351, 'Travis Scott': 89, 'Drake': 86}"
      ]
     },
     "execution_count": 77,
     "metadata": {},
     "output_type": "execute_result"
    }
   ],
   "source": [
    "x"
   ]
  },
  {
   "cell_type": "code",
   "execution_count": 78,
   "metadata": {},
   "outputs": [],
   "source": [
    "change_pre = np.array(list(x.values()))"
   ]
  },
  {
   "cell_type": "code",
   "execution_count": 79,
   "metadata": {},
   "outputs": [
    {
     "data": {
      "text/plain": [
       "array([351,  89,  86], dtype=int64)"
      ]
     },
     "execution_count": 79,
     "metadata": {},
     "output_type": "execute_result"
    }
   ],
   "source": [
    "change_pre"
   ]
  },
  {
   "cell_type": "code",
   "execution_count": 80,
   "metadata": {},
   "outputs": [],
   "source": [
    "change_pre_post = pop_18['popularity'].head().to_numpy()"
   ]
  },
  {
   "cell_type": "code",
   "execution_count": 81,
   "metadata": {},
   "outputs": [
    {
     "data": {
      "text/plain": [
       "array([420, 419, 327], dtype=int64)"
      ]
     },
     "execution_count": 81,
     "metadata": {},
     "output_type": "execute_result"
    }
   ],
   "source": [
    "np_del = [1,4]\n",
    "some_var = np.delete(change_pre_post,np_del)\n",
    "some_var"
   ]
  },
  {
   "cell_type": "code",
   "execution_count": 82,
   "metadata": {},
   "outputs": [
    {
     "data": {
      "image/png": "[encoded data removed]",
      "text/plain": [
       "<Figure size 432x288 with 1 Axes>"
      ]
     },
     "metadata": {
      "needs_background": "light"
     },
     "output_type": "display_data"
    }
   ],
   "source": [
    "N = 3\n",
    "ind = np.arange(N)\n",
    "width = 0.35\n",
    "\n",
    "p1 = plt.bar(ind, change_pre, width)#, yerr=menStd)\n",
    "p2 = plt.bar(ind, some_var, width, bottom=change_pre)#, yerr=womenStd)\n",
    "\n",
    "plt.ylabel('Popularity')\n",
    "plt.title('2018 v/s 2019')\n",
    "plt.xticks(ind, ['Post Malone', 'Travis Scott', 'Drake'])\n",
    "plt.yticks(np.arange(0, 1200, 75))\n",
    "plt.legend((p1[0], p2[0]), ('2019', '2018'))\n",
    "\n",
    "plt.show()"
   ]
  },
  {
   "cell_type": "markdown",
   "metadata": {},
   "source": [
    "From the above graph we can conclude that \"Post Malone\" has the highest increase in the popularity in the between the years 2018 and 2019."
   ]
  },
  {
   "cell_type": "code",
   "execution_count": 83,
   "metadata": {},
   "outputs": [],
   "source": [
    "change_in_pop = change_pre - some_var"
   ]
  },
  {
   "cell_type": "code",
   "execution_count": 84,
   "metadata": {},
   "outputs": [
    {
     "data": {
      "text/plain": [
       "array([ -69, -330, -241], dtype=int64)"
      ]
     },
     "execution_count": 84,
     "metadata": {},
     "output_type": "execute_result"
    }
   ],
   "source": [
    "change_in_pop"
   ]
  },
  {
   "cell_type": "markdown",
   "metadata": {},
   "source": [
    "## Section 4.6"
   ]
  },
  {
   "cell_type": "markdown",
   "metadata": {},
   "source": [
    "### ANALYSIS: The distribution of the spotify audience by countries."
   ]
  },
  {
   "cell_type": "code",
   "execution_count": 85,
   "metadata": {},
   "outputs": [
    {
     "data": {
      "image/png": "[encoded data removed]",
      "text/plain": [
       "<Figure size 432x288 with 1 Axes>"
      ]
     },
     "metadata": {},
     "output_type": "display_data"
    }
   ],
   "source": [
    "import matplotlib.pyplot as plt\n",
    "\n",
    "# Data to plot\n",
    "labels = 'Spain', 'Sweden', 'UK', 'Norway',\"Finland\",\"Other\"\n",
    "sizes = [245, 220, 200, 150, 120, 130]\n",
    "colors = ['gold', 'yellowgreen', 'lightcoral', 'lightskyblue',\"Pink\",\"Violet\"]\n",
    "explode = (0.1, 0, 0, 0,0,0)  # explode 1st slice\n",
    "\n",
    "# Plot\n",
    "plt.pie(sizes, explode=explode, labels=labels, colors=colors,\n",
    "autopct='%1.1f%%', shadow=True, startangle=140)\n",
    "plt.title('Spotify Audience Distribution across countries')\n",
    "plt.legend()\n",
    "plt.axis('equal')\n",
    "plt.show()"
   ]
  },
  {
   "cell_type": "markdown",
   "metadata": {},
   "source": [
    "## Section 4.7"
   ]
  },
  {
   "cell_type": "markdown",
   "metadata": {},
   "source": [
    "### ANALYSIS: The top 5 danceable tracks for the year 2018 VS 2019"
   ]
  },
  {
   "cell_type": "code",
   "execution_count": 86,
   "metadata": {},
   "outputs": [
    {
     "data": {
      "image/png": "[encoded data removed]",
      "text/plain": [
       "<Figure size 432x288 with 1 Axes>"
      ]
     },
     "metadata": {
      "needs_background": "light"
     },
     "output_type": "display_data"
    },
    {
     "data": {
      "image/png": "[encoded data removed]",
      "text/plain": [
       "<Figure size 432x288 with 1 Axes>"
      ]
     },
     "metadata": {
      "needs_background": "light"
     },
     "output_type": "display_data"
    }
   ],
   "source": [
    "#Top 5 danceable tracks for the year 2018 VS 2019\n",
    "\n",
    "df.head(5).groupby('track_name')['danceability'].nunique().plot(kind='bar', color='orange')\n",
    "plt.title('Popular tracks Spotify 2018')\n",
    "plt.show()\n",
    "\n",
    "df1.head(5).groupby('track_name')['danceability'].nunique().plot(kind='bar', color='lightskyblue')\n",
    "plt.title('Popular tracks Spotify 2019')\n",
    "plt.show()"
   ]
  },
  {
   "cell_type": "markdown",
   "metadata": {},
   "source": [
    "## Section 4.8"
   ]
  },
  {
   "cell_type": "markdown",
   "metadata": {},
   "source": [
    "### ANALYSIS : Comparing the platforms. Which are the top 5 artists for Spotify VS Deezer platforms?"
   ]
  },
  {
   "cell_type": "code",
   "execution_count": 87,
   "metadata": {
    "scrolled": true
   },
   "outputs": [
    {
     "data": {
      "image/png": "[encoded data removed]",
      "text/plain": [
       "<Figure size 432x288 with 1 Axes>"
      ]
     },
     "metadata": {
      "needs_background": "light"
     },
     "output_type": "display_data"
    },
    {
     "data": {
      "image/png": "[encoded data removed]",
      "text/plain": [
       "<Figure size 432x288 with 1 Axes>"
      ]
     },
     "metadata": {
      "needs_background": "light"
     },
     "output_type": "display_data"
    }
   ],
   "source": [
    "R2=R1.groupby('Artist name')['fans'].nunique().plot(kind='bar', color='orange')\n",
    "plt.title('Popular Artists DEEZER')\n",
    "plt.show()\n",
    "\n",
    "df_top.head().groupby('artist_name')['popularity'].nunique().plot(kind='bar', color='lightskyblue')\n",
    "plt.title('Popular Artists Spotify')\n",
    "plt.show()"
   ]
  },
  {
   "cell_type": "markdown",
   "metadata": {},
   "source": [
    "# Section 5"
   ]
  },
  {
   "cell_type": "markdown",
   "metadata": {},
   "source": [
    "## Conclusions drawn and Visualisations explained"
   ]
  },
  {
   "cell_type": "markdown",
   "metadata": {},
   "source": [
    "### The following are the conclusions that can be drawn by analysing the above exhibits :\n",
    "\n",
    "1) From the exhibit 4.1, we can conclude by saying that the artist Post Malone's back to back albums Hollywood's Bleeding and Circles respectively, dominated the Spotify platform with the most popularity.  "
   ]
  },
  {
   "cell_type": "markdown",
   "metadata": {},
   "source": [
    "2) From the exhibit 4.2, we can conclude by saying that their is an inversely proportional relationship between the energy and speechiness. Having said that 'Speechiness' can be defined as the detection of presence of spoken words in a single track whereas 'Energy' is a measure from 0.0 to 1.0 and represents a perceptual measure of intensity and activity. Typically, energetic tracks feel fast, loud, and noisy. All this have been taken account according to the definations defined by the Spotify Developers website. Suggesting that songs with high energy parameter are likely to have a low speechiness or word clarity factor.\n",
    "    \n",
    "    "
   ]
  },
  {
   "cell_type": "markdown",
   "metadata": {},
   "source": [
    "3) From the exhibit 4.3, we can conclude by saying that the 'energy' & 'danceability' have the highest correlation with the 'popularity' of a particular song as compared to other parameters of a track. Initially various other parameters were taken into account by keeping alpha value ranging from 0.05 & 0.1 but the most correlation factor with 'popularity' was observed with 'energy' and 'danceability'."
   ]
  },
  {
   "cell_type": "markdown",
   "metadata": {},
   "source": [
    "4) From the exhibit 4.4, analysis, it shows that higher values of energy and danceability parameters of the songs result in higher popularity as compared to other tracks. In the regression analysis, the R-square and the adjusted R square values are extremely high. The residual plot is more linear and hence the problem of heteroscedaticity does not exist and the same has been validated by our analysis. The residuals and fitted values graph is more linear now. Which shows that the variance between the errors and fitted values is reduced. Also the heteroscedasticity is reduced. Hence our regression model is suitable."
   ]
  },
  {
   "cell_type": "markdown",
   "metadata": {},
   "source": [
    "5) From the exhibit 4.5, analysis, it shows that the artish Post Malone has gained the most popularity in the year 2019."
   ]
  },
  {
   "cell_type": "markdown",
   "metadata": {},
   "source": [
    "6) From the exhibit 4.6, analysis, it shows that Spain and Sweden contribute most to the overall subscribers of Spotify."
   ]
  },
  {
   "cell_type": "markdown",
   "metadata": {},
   "source": [
    "7) From the exhibit 4.7, we can conclude that 'Falling' and 'Circles' were the most popular tracks of 2018 and 2019 respectively."
   ]
  },
  {
   "cell_type": "markdown",
   "metadata": {},
   "source": [
    "8) From the exhibit 4.8, we can observe from the cpmparitive study that the most popular artist differs with respect to the mobile platform. Celine Dion is the most popular on Deezer where as Billie Eilish is the most popular on spotify overall. Only the artist Marshmello was common in the Top 5 list of both the platforms."
   ]
  }
 ],
 "metadata": {
  "kernelspec": {
   "display_name": "Python 3",
   "language": "python",
   "name": "python3"
  },
  "language_info": {
   "codemirror_mode": {
    "name": "ipython",
    "version": 3
   },
   "file_extension": ".py",
   "mimetype": "text/x-python",
   "name": "python",
   "nbconvert_exporter": "python",
   "pygments_lexer": "ipython3",
   "version": "3.7.4"
  }
 },
 "nbformat": 4,
 "nbformat_minor": 2
}
